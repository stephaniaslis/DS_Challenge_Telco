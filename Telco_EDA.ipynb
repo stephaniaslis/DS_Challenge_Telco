{
 "cells": [
  {
   "cell_type": "markdown",
   "id": "a4dd3969",
   "metadata": {},
   "source": [
    "## Libraries"
   ]
  },
  {
   "cell_type": "code",
   "execution_count": 42,
   "id": "2fca41f0",
   "metadata": {},
   "outputs": [],
   "source": [
    "import pandas as pd\n",
    "import numpy as np\n",
    "import seaborn as sns\n",
    "import matplotlib.pyplot as plt\n",
    "%matplotlib inline \n",
    "from pandas_profiling import ProfileReport"
   ]
  },
  {
   "cell_type": "markdown",
   "id": "f8ae3474",
   "metadata": {},
   "source": [
    "## EDA"
   ]
  },
  {
   "cell_type": "code",
   "execution_count": 43,
   "id": "6d2cc878",
   "metadata": {},
   "outputs": [],
   "source": [
    "df_telco_clean = pd.read_csv('df_telco_clean.csv')"
   ]
  },
  {
   "cell_type": "code",
   "execution_count": 44,
   "id": "e7168af4",
   "metadata": {},
   "outputs": [],
   "source": [
    "report_telco = ProfileReport(df_telco_clean)"
   ]
  },
  {
   "cell_type": "code",
   "execution_count": 45,
   "id": "79628dc8",
   "metadata": {},
   "outputs": [
    {
     "data": {
      "application/vnd.jupyter.widget-view+json": {
       "model_id": "7b0d19598ad54adfa8346980cda18c74",
       "version_major": 2,
       "version_minor": 0
      },
      "text/plain": [
       "Summarize dataset:   0%|          | 0/5 [00:00<?, ?it/s]"
      ]
     },
     "metadata": {},
     "output_type": "display_data"
    },
    {
     "data": {
      "application/vnd.jupyter.widget-view+json": {
       "model_id": "a7e45d63f32246dfaae45d424f236c6d",
       "version_major": 2,
       "version_minor": 0
      },
      "text/plain": [
       "Generate report structure:   0%|          | 0/1 [00:00<?, ?it/s]"
      ]
     },
     "metadata": {},
     "output_type": "display_data"
    },
    {
     "data": {
      "application/vnd.jupyter.widget-view+json": {
       "model_id": "33cc32343ca04161abd1b04938cdfedd",
       "version_major": 2,
       "version_minor": 0
      },
      "text/plain": [
       "Render HTML:   0%|          | 0/1 [00:00<?, ?it/s]"
      ]
     },
     "metadata": {},
     "output_type": "display_data"
    },
    {
     "data": {
      "application/vnd.jupyter.widget-view+json": {
       "model_id": "be1aa3e0c4b64038a83200398359b188",
       "version_major": 2,
       "version_minor": 0
      },
      "text/plain": [
       "Export report to file:   0%|          | 0/1 [00:00<?, ?it/s]"
      ]
     },
     "metadata": {},
     "output_type": "display_data"
    }
   ],
   "source": [
    "report_telco.to_file(output_file='report_telco.html')\n",
    "# see the file report_telco.html on repository"
   ]
  },
  {
   "cell_type": "markdown",
   "id": "39a49aee",
   "metadata": {},
   "source": [
    "### Report conclusions\n",
    "- The target (Churn) is unbalanced, the churn rate is 26.6%\n",
    "- The gender is almost 50% for male and female\n",
    "- There are more customers :\n",
    "    - under 65 years old\n",
    "    - with phone service\n",
    "    - without dependents\n",
    "    - with montly contract\n",
    "- Customer tenure is highly correlated with Account charges total"
   ]
  },
  {
   "cell_type": "markdown",
   "id": "29bed906",
   "metadata": {},
   "source": [
    "### Churn 0"
   ]
  },
  {
   "cell_type": "code",
   "execution_count": 46,
   "id": "30bea6f3",
   "metadata": {},
   "outputs": [],
   "source": [
    "df_telco_churn_0 = df_telco_clean[df_telco_clean['Churn'] == 0]"
   ]
  },
  {
   "cell_type": "markdown",
   "id": "2d3500ff",
   "metadata": {},
   "source": [
    "## EDA"
   ]
  },
  {
   "cell_type": "code",
   "execution_count": 47,
   "id": "8363ce71",
   "metadata": {
    "scrolled": true
   },
   "outputs": [
    {
     "data": {
      "text/html": [
       "<div>\n",
       "<style scoped>\n",
       "    .dataframe tbody tr th:only-of-type {\n",
       "        vertical-align: middle;\n",
       "    }\n",
       "\n",
       "    .dataframe tbody tr th {\n",
       "        vertical-align: top;\n",
       "    }\n",
       "\n",
       "    .dataframe thead th {\n",
       "        text-align: right;\n",
       "    }\n",
       "</style>\n",
       "<table border=\"1\" class=\"dataframe\">\n",
       "  <thead>\n",
       "    <tr style=\"text-align: right;\">\n",
       "      <th></th>\n",
       "      <th>customerID</th>\n",
       "      <th>Churn</th>\n",
       "      <th>customer_gender</th>\n",
       "      <th>customer_SeniorCitizen</th>\n",
       "      <th>customer_Partner</th>\n",
       "      <th>customer_Dependents</th>\n",
       "      <th>customer_tenure</th>\n",
       "      <th>phone_PhoneService</th>\n",
       "      <th>phone_MultipleLines</th>\n",
       "      <th>internet_InternetService</th>\n",
       "      <th>...</th>\n",
       "      <th>internet_DeviceProtection</th>\n",
       "      <th>internet_TechSupport</th>\n",
       "      <th>internet_StreamingTV</th>\n",
       "      <th>internet_StreamingMovies</th>\n",
       "      <th>account_Contract</th>\n",
       "      <th>account_PaperlessBilling</th>\n",
       "      <th>account_PaymentMethod</th>\n",
       "      <th>account_Charges_Monthly</th>\n",
       "      <th>account_Charges_Total</th>\n",
       "      <th>account_Charges_Daily</th>\n",
       "    </tr>\n",
       "  </thead>\n",
       "  <tbody>\n",
       "    <tr>\n",
       "      <th>0</th>\n",
       "      <td>0002-ORFBO</td>\n",
       "      <td>0</td>\n",
       "      <td>Female</td>\n",
       "      <td>&lt; 65 years</td>\n",
       "      <td>Yes</td>\n",
       "      <td>Yes</td>\n",
       "      <td>9</td>\n",
       "      <td>Yes</td>\n",
       "      <td>No</td>\n",
       "      <td>DSL</td>\n",
       "      <td>...</td>\n",
       "      <td>No</td>\n",
       "      <td>Yes</td>\n",
       "      <td>Yes</td>\n",
       "      <td>No</td>\n",
       "      <td>One year</td>\n",
       "      <td>Yes</td>\n",
       "      <td>Mailed check</td>\n",
       "      <td>65.60</td>\n",
       "      <td>593.30</td>\n",
       "      <td>2.19</td>\n",
       "    </tr>\n",
       "    <tr>\n",
       "      <th>1</th>\n",
       "      <td>0003-MKNFE</td>\n",
       "      <td>0</td>\n",
       "      <td>Male</td>\n",
       "      <td>&lt; 65 years</td>\n",
       "      <td>No</td>\n",
       "      <td>No</td>\n",
       "      <td>9</td>\n",
       "      <td>Yes</td>\n",
       "      <td>Yes</td>\n",
       "      <td>DSL</td>\n",
       "      <td>...</td>\n",
       "      <td>No</td>\n",
       "      <td>No</td>\n",
       "      <td>No</td>\n",
       "      <td>Yes</td>\n",
       "      <td>Month-to-month</td>\n",
       "      <td>No</td>\n",
       "      <td>Mailed check</td>\n",
       "      <td>59.90</td>\n",
       "      <td>542.40</td>\n",
       "      <td>2.00</td>\n",
       "    </tr>\n",
       "    <tr>\n",
       "      <th>5</th>\n",
       "      <td>0013-MHZWF</td>\n",
       "      <td>0</td>\n",
       "      <td>Female</td>\n",
       "      <td>&lt; 65 years</td>\n",
       "      <td>No</td>\n",
       "      <td>Yes</td>\n",
       "      <td>9</td>\n",
       "      <td>Yes</td>\n",
       "      <td>No</td>\n",
       "      <td>DSL</td>\n",
       "      <td>...</td>\n",
       "      <td>No</td>\n",
       "      <td>Yes</td>\n",
       "      <td>Yes</td>\n",
       "      <td>Yes</td>\n",
       "      <td>Month-to-month</td>\n",
       "      <td>Yes</td>\n",
       "      <td>Credit card (automatic)</td>\n",
       "      <td>69.40</td>\n",
       "      <td>571.45</td>\n",
       "      <td>2.31</td>\n",
       "    </tr>\n",
       "    <tr>\n",
       "      <th>6</th>\n",
       "      <td>0013-SMEOE</td>\n",
       "      <td>0</td>\n",
       "      <td>Female</td>\n",
       "      <td>&gt;= 65 years</td>\n",
       "      <td>Yes</td>\n",
       "      <td>No</td>\n",
       "      <td>71</td>\n",
       "      <td>Yes</td>\n",
       "      <td>No</td>\n",
       "      <td>Fiber optic</td>\n",
       "      <td>...</td>\n",
       "      <td>Yes</td>\n",
       "      <td>Yes</td>\n",
       "      <td>Yes</td>\n",
       "      <td>Yes</td>\n",
       "      <td>Two year</td>\n",
       "      <td>Yes</td>\n",
       "      <td>Bank transfer (automatic)</td>\n",
       "      <td>109.70</td>\n",
       "      <td>7904.25</td>\n",
       "      <td>3.66</td>\n",
       "    </tr>\n",
       "    <tr>\n",
       "      <th>7</th>\n",
       "      <td>0014-BMAQU</td>\n",
       "      <td>0</td>\n",
       "      <td>Male</td>\n",
       "      <td>&lt; 65 years</td>\n",
       "      <td>Yes</td>\n",
       "      <td>No</td>\n",
       "      <td>63</td>\n",
       "      <td>Yes</td>\n",
       "      <td>Yes</td>\n",
       "      <td>Fiber optic</td>\n",
       "      <td>...</td>\n",
       "      <td>No</td>\n",
       "      <td>Yes</td>\n",
       "      <td>No</td>\n",
       "      <td>No</td>\n",
       "      <td>Two year</td>\n",
       "      <td>Yes</td>\n",
       "      <td>Credit card (automatic)</td>\n",
       "      <td>84.65</td>\n",
       "      <td>5377.80</td>\n",
       "      <td>2.82</td>\n",
       "    </tr>\n",
       "  </tbody>\n",
       "</table>\n",
       "<p>5 rows × 22 columns</p>\n",
       "</div>"
      ],
      "text/plain": [
       "   customerID  Churn customer_gender customer_SeniorCitizen customer_Partner  \\\n",
       "0  0002-ORFBO      0          Female             < 65 years              Yes   \n",
       "1  0003-MKNFE      0            Male             < 65 years               No   \n",
       "5  0013-MHZWF      0          Female             < 65 years               No   \n",
       "6  0013-SMEOE      0          Female            >= 65 years              Yes   \n",
       "7  0014-BMAQU      0            Male             < 65 years              Yes   \n",
       "\n",
       "  customer_Dependents  customer_tenure phone_PhoneService phone_MultipleLines  \\\n",
       "0                 Yes                9                Yes                  No   \n",
       "1                  No                9                Yes                 Yes   \n",
       "5                 Yes                9                Yes                  No   \n",
       "6                  No               71                Yes                  No   \n",
       "7                  No               63                Yes                 Yes   \n",
       "\n",
       "  internet_InternetService  ... internet_DeviceProtection  \\\n",
       "0                      DSL  ...                        No   \n",
       "1                      DSL  ...                        No   \n",
       "5                      DSL  ...                        No   \n",
       "6              Fiber optic  ...                       Yes   \n",
       "7              Fiber optic  ...                        No   \n",
       "\n",
       "  internet_TechSupport internet_StreamingTV internet_StreamingMovies  \\\n",
       "0                  Yes                  Yes                       No   \n",
       "1                   No                   No                      Yes   \n",
       "5                  Yes                  Yes                      Yes   \n",
       "6                  Yes                  Yes                      Yes   \n",
       "7                  Yes                   No                       No   \n",
       "\n",
       "  account_Contract account_PaperlessBilling      account_PaymentMethod  \\\n",
       "0         One year                      Yes               Mailed check   \n",
       "1   Month-to-month                       No               Mailed check   \n",
       "5   Month-to-month                      Yes    Credit card (automatic)   \n",
       "6         Two year                      Yes  Bank transfer (automatic)   \n",
       "7         Two year                      Yes    Credit card (automatic)   \n",
       "\n",
       "  account_Charges_Monthly account_Charges_Total  account_Charges_Daily  \n",
       "0                   65.60                593.30                   2.19  \n",
       "1                   59.90                542.40                   2.00  \n",
       "5                   69.40                571.45                   2.31  \n",
       "6                  109.70               7904.25                   3.66  \n",
       "7                   84.65               5377.80                   2.82  \n",
       "\n",
       "[5 rows x 22 columns]"
      ]
     },
     "execution_count": 47,
     "metadata": {},
     "output_type": "execute_result"
    }
   ],
   "source": [
    "df_telco_churn_0.head(5)"
   ]
  },
  {
   "cell_type": "code",
   "execution_count": 48,
   "id": "c16d9901",
   "metadata": {},
   "outputs": [],
   "source": [
    "# Categorical features\n",
    "list_cat = ['customer_gender', 'customer_SeniorCitizen',\n",
    "       'customer_Partner', 'customer_Dependents',\n",
    "       'phone_PhoneService', 'phone_MultipleLines', 'internet_InternetService',\n",
    "       'internet_OnlineSecurity', 'internet_OnlineBackup',\n",
    "       'internet_DeviceProtection', 'internet_TechSupport',\n",
    "       'internet_StreamingTV', 'internet_StreamingMovies', 'account_Contract',\n",
    "       'account_PaperlessBilling', 'account_PaymentMethod']"
   ]
  },
  {
   "cell_type": "code",
   "execution_count": 49,
   "id": "d287951f",
   "metadata": {},
   "outputs": [
    {
     "name": "stdout",
     "output_type": "stream",
     "text": [
      "customer_gender\n",
      "\n",
      "Male      0.507263\n",
      "Female    0.492737\n",
      "Name: customer_gender, dtype: float64\n",
      "customer_SeniorCitizen\n",
      "\n",
      "< 65 years     0.871005\n",
      ">= 65 years    0.128995\n",
      "Name: customer_SeniorCitizen, dtype: float64\n",
      "customer_Partner\n",
      "\n",
      "Yes    0.5276\n",
      "No     0.4724\n",
      "Name: customer_Partner, dtype: float64\n",
      "customer_Dependents\n",
      "\n",
      "No     0.656595\n",
      "Yes    0.343405\n",
      "Name: customer_Dependents, dtype: float64\n",
      "phone_PhoneService\n",
      "\n",
      "Yes    0.90122\n",
      "No     0.09878\n",
      "Name: phone_PhoneService, dtype: float64\n",
      "phone_MultipleLines\n",
      "\n",
      "No                  0.491187\n",
      "Yes                 0.410033\n",
      "No phone service    0.098780\n",
      "Name: phone_MultipleLines, dtype: float64\n",
      "internet_InternetService\n",
      "\n",
      "DSL            0.379043\n",
      "Fiber optic    0.348441\n",
      "No             0.272516\n",
      "Name: internet_InternetService, dtype: float64\n",
      "internet_OnlineSecurity\n",
      "\n",
      "No                     0.394344\n",
      "Yes                    0.333140\n",
      "No internet service    0.272516\n",
      "Name: internet_OnlineSecurity, dtype: float64\n",
      "internet_OnlineBackup\n",
      "\n",
      "Yes                    0.368390\n",
      "No                     0.359094\n",
      "No internet service    0.272516\n",
      "Name: internet_OnlineBackup, dtype: float64\n",
      "internet_DeviceProtection\n",
      "\n",
      "No                     0.364710\n",
      "Yes                    0.362774\n",
      "No internet service    0.272516\n",
      "Name: internet_DeviceProtection, dtype: float64\n",
      "internet_TechSupport\n",
      "\n",
      "No                     0.392408\n",
      "Yes                    0.335077\n",
      "No internet service    0.272516\n",
      "Name: internet_TechSupport, dtype: float64\n",
      "internet_StreamingTV\n",
      "\n",
      "Yes                    0.365873\n",
      "No                     0.361611\n",
      "No internet service    0.272516\n",
      "Name: internet_StreamingTV, dtype: float64\n",
      "internet_StreamingMovies\n",
      "\n",
      "Yes                    0.370521\n",
      "No                     0.356963\n",
      "No internet service    0.272516\n",
      "Name: internet_StreamingMovies, dtype: float64\n",
      "account_Contract\n",
      "\n",
      "Month-to-month    0.429983\n",
      "Two year          0.317064\n",
      "One year          0.252954\n",
      "Name: account_Contract, dtype: float64\n",
      "account_PaperlessBilling\n",
      "\n",
      "Yes    0.536122\n",
      "No     0.463878\n",
      "Name: account_PaperlessBilling, dtype: float64\n",
      "account_PaymentMethod\n",
      "\n",
      "Mailed check                 0.251017\n",
      "Electronic check             0.250629\n",
      "Credit card (automatic)      0.249661\n",
      "Bank transfer (automatic)    0.248693\n",
      "Name: account_PaymentMethod, dtype: float64\n"
     ]
    }
   ],
   "source": [
    "#analysing categorical features\n",
    "for column in list_cat:\n",
    "  print(column)\n",
    "  print()\n",
    "  print(df_telco_churn_0[column].value_counts(normalize = True))"
   ]
  },
  {
   "cell_type": "code",
   "execution_count": 50,
   "id": "0eef3fa2",
   "metadata": {},
   "outputs": [
    {
     "name": "stdout",
     "output_type": "stream",
     "text": [
      "customer_gender\n"
     ]
    },
    {
     "data": {
      "image/png": "[encoded data removed]",
      "text/plain": [
       "<Figure size 432x288 with 1 Axes>"
      ]
     },
     "metadata": {
      "needs_background": "light"
     },
     "output_type": "display_data"
    },
    {
     "name": "stdout",
     "output_type": "stream",
     "text": [
      "customer_SeniorCitizen\n"
     ]
    },
    {
     "data": {
      "image/png": "[encoded data removed]",
      "text/plain": [
       "<Figure size 432x288 with 1 Axes>"
      ]
     },
     "metadata": {
      "needs_background": "light"
     },
     "output_type": "display_data"
    },
    {
     "name": "stdout",
     "output_type": "stream",
     "text": [
      "customer_Partner\n"
     ]
    },
    {
     "data": {
      "image/png": "[encoded data removed]",
      "text/plain": [
       "<Figure size 432x288 with 1 Axes>"
      ]
     },
     "metadata": {
      "needs_background": "light"
     },
     "output_type": "display_data"
    },
    {
     "name": "stdout",
     "output_type": "stream",
     "text": [
      "customer_Dependents\n"
     ]
    },
    {
     "data": {
      "image/png": "[encoded data removed]",
      "text/plain": [
       "<Figure size 432x288 with 1 Axes>"
      ]
     },
     "metadata": {
      "needs_background": "light"
     },
     "output_type": "display_data"
    },
    {
     "name": "stdout",
     "output_type": "stream",
     "text": [
      "phone_PhoneService\n"
     ]
    },
    {
     "data": {
      "image/png": "[encoded data removed]",
      "text/plain": [
       "<Figure size 432x288 with 1 Axes>"
      ]
     },
     "metadata": {
      "needs_background": "light"
     },
     "output_type": "display_data"
    },
    {
     "name": "stdout",
     "output_type": "stream",
     "text": [
      "phone_MultipleLines\n"
     ]
    },
    {
     "data": {
      "image/png": "[encoded data removed]",
      "text/plain": [
       "<Figure size 432x288 with 1 Axes>"
      ]
     },
     "metadata": {
      "needs_background": "light"
     },
     "output_type": "display_data"
    },
    {
     "name": "stdout",
     "output_type": "stream",
     "text": [
      "internet_InternetService\n"
     ]
    },
    {
     "data": {
      "image/png": "[encoded data removed]",
      "text/plain": [
       "<Figure size 432x288 with 1 Axes>"
      ]
     },
     "metadata": {
      "needs_background": "light"
     },
     "output_type": "display_data"
    },
    {
     "name": "stdout",
     "output_type": "stream",
     "text": [
      "internet_OnlineSecurity\n"
     ]
    },
    {
     "data": {
      "image/png": "[encoded data removed]",
      "text/plain": [
       "<Figure size 432x288 with 1 Axes>"
      ]
     },
     "metadata": {
      "needs_background": "light"
     },
     "output_type": "display_data"
    },
    {
     "name": "stdout",
     "output_type": "stream",
     "text": [
      "internet_OnlineBackup\n"
     ]
    },
    {
     "data": {
      "image/png": "[encoded data removed]",
      "text/plain": [
       "<Figure size 432x288 with 1 Axes>"
      ]
     },
     "metadata": {
      "needs_background": "light"
     },
     "output_type": "display_data"
    },
    {
     "name": "stdout",
     "output_type": "stream",
     "text": [
      "internet_DeviceProtection\n"
     ]
    },
    {
     "data": {
      "image/png": "[encoded data removed]",
      "text/plain": [
       "<Figure size 432x288 with 1 Axes>"
      ]
     },
     "metadata": {
      "needs_background": "light"
     },
     "output_type": "display_data"
    },
    {
     "name": "stdout",
     "output_type": "stream",
     "text": [
      "internet_TechSupport\n"
     ]
    },
    {
     "data": {
      "image/png": "[encoded data removed]",
      "text/plain": [
       "<Figure size 432x288 with 1 Axes>"
      ]
     },
     "metadata": {
      "needs_background": "light"
     },
     "output_type": "display_data"
    },
    {
     "name": "stdout",
     "output_type": "stream",
     "text": [
      "internet_StreamingTV\n"
     ]
    },
    {
     "data": {
      "image/png": "[encoded data removed]",
      "text/plain": [
       "<Figure size 432x288 with 1 Axes>"
      ]
     },
     "metadata": {
      "needs_background": "light"
     },
     "output_type": "display_data"
    },
    {
     "name": "stdout",
     "output_type": "stream",
     "text": [
      "internet_StreamingMovies\n"
     ]
    },
    {
     "data": {
      "image/png": "[encoded data removed]",
      "text/plain": [
       "<Figure size 432x288 with 1 Axes>"
      ]
     },
     "metadata": {
      "needs_background": "light"
     },
     "output_type": "display_data"
    },
    {
     "name": "stdout",
     "output_type": "stream",
     "text": [
      "account_Contract\n"
     ]
    },
    {
     "data": {
      "image/png": "[encoded data removed]",
      "text/plain": [
       "<Figure size 432x288 with 1 Axes>"
      ]
     },
     "metadata": {
      "needs_background": "light"
     },
     "output_type": "display_data"
    },
    {
     "name": "stdout",
     "output_type": "stream",
     "text": [
      "account_PaperlessBilling\n"
     ]
    },
    {
     "data": {
      "image/png": "[encoded data removed]",
      "text/plain": [
       "<Figure size 432x288 with 1 Axes>"
      ]
     },
     "metadata": {
      "needs_background": "light"
     },
     "output_type": "display_data"
    },
    {
     "name": "stdout",
     "output_type": "stream",
     "text": [
      "account_PaymentMethod\n"
     ]
    },
    {
     "data": {
      "image/png": "[encoded data removed]",
      "text/plain": [
       "<Figure size 432x288 with 1 Axes>"
      ]
     },
     "metadata": {
      "needs_background": "light"
     },
     "output_type": "display_data"
    }
   ],
   "source": [
    "%matplotlib inline \n",
    "# Histogram for categorical features\n",
    "for item in list_cat:\n",
    "  print(item)\n",
    "  plt.hist(df_telco_churn_0[item])\n",
    "  plt.show()"
   ]
  },
  {
   "cell_type": "code",
   "execution_count": 51,
   "id": "3ff83d2e",
   "metadata": {},
   "outputs": [
    {
     "data": {
      "text/html": [
       "<div>\n",
       "<style scoped>\n",
       "    .dataframe tbody tr th:only-of-type {\n",
       "        vertical-align: middle;\n",
       "    }\n",
       "\n",
       "    .dataframe tbody tr th {\n",
       "        vertical-align: top;\n",
       "    }\n",
       "\n",
       "    .dataframe thead th {\n",
       "        text-align: right;\n",
       "    }\n",
       "</style>\n",
       "<table border=\"1\" class=\"dataframe\">\n",
       "  <thead>\n",
       "    <tr style=\"text-align: right;\">\n",
       "      <th></th>\n",
       "      <th>count</th>\n",
       "      <th>mean</th>\n",
       "      <th>std</th>\n",
       "      <th>min</th>\n",
       "      <th>25%</th>\n",
       "      <th>50%</th>\n",
       "      <th>75%</th>\n",
       "      <th>max</th>\n",
       "    </tr>\n",
       "  </thead>\n",
       "  <tbody>\n",
       "    <tr>\n",
       "      <th>Churn</th>\n",
       "      <td>5163.0</td>\n",
       "      <td>0.000000</td>\n",
       "      <td>0.000000</td>\n",
       "      <td>0.00</td>\n",
       "      <td>0.000</td>\n",
       "      <td>0.00</td>\n",
       "      <td>0.000</td>\n",
       "      <td>0.00</td>\n",
       "    </tr>\n",
       "    <tr>\n",
       "      <th>customer_tenure</th>\n",
       "      <td>5163.0</td>\n",
       "      <td>37.650010</td>\n",
       "      <td>24.076940</td>\n",
       "      <td>1.00</td>\n",
       "      <td>15.000</td>\n",
       "      <td>38.00</td>\n",
       "      <td>61.000</td>\n",
       "      <td>72.00</td>\n",
       "    </tr>\n",
       "    <tr>\n",
       "      <th>account_Charges_Monthly</th>\n",
       "      <td>5163.0</td>\n",
       "      <td>61.307408</td>\n",
       "      <td>31.094557</td>\n",
       "      <td>18.25</td>\n",
       "      <td>25.100</td>\n",
       "      <td>64.45</td>\n",
       "      <td>88.475</td>\n",
       "      <td>118.75</td>\n",
       "    </tr>\n",
       "    <tr>\n",
       "      <th>account_Charges_Total</th>\n",
       "      <td>5163.0</td>\n",
       "      <td>2555.344141</td>\n",
       "      <td>2329.456984</td>\n",
       "      <td>18.80</td>\n",
       "      <td>577.825</td>\n",
       "      <td>1683.60</td>\n",
       "      <td>4264.125</td>\n",
       "      <td>8672.45</td>\n",
       "    </tr>\n",
       "    <tr>\n",
       "      <th>account_Charges_Daily</th>\n",
       "      <td>5163.0</td>\n",
       "      <td>2.043486</td>\n",
       "      <td>1.036560</td>\n",
       "      <td>0.61</td>\n",
       "      <td>0.840</td>\n",
       "      <td>2.15</td>\n",
       "      <td>2.950</td>\n",
       "      <td>3.96</td>\n",
       "    </tr>\n",
       "  </tbody>\n",
       "</table>\n",
       "</div>"
      ],
      "text/plain": [
       "                          count         mean          std    min      25%  \\\n",
       "Churn                    5163.0     0.000000     0.000000   0.00    0.000   \n",
       "customer_tenure          5163.0    37.650010    24.076940   1.00   15.000   \n",
       "account_Charges_Monthly  5163.0    61.307408    31.094557  18.25   25.100   \n",
       "account_Charges_Total    5163.0  2555.344141  2329.456984  18.80  577.825   \n",
       "account_Charges_Daily    5163.0     2.043486     1.036560   0.61    0.840   \n",
       "\n",
       "                             50%       75%      max  \n",
       "Churn                       0.00     0.000     0.00  \n",
       "customer_tenure            38.00    61.000    72.00  \n",
       "account_Charges_Monthly    64.45    88.475   118.75  \n",
       "account_Charges_Total    1683.60  4264.125  8672.45  \n",
       "account_Charges_Daily       2.15     2.950     3.96  "
      ]
     },
     "execution_count": 51,
     "metadata": {},
     "output_type": "execute_result"
    }
   ],
   "source": [
    "df_telco_churn_0.describe().T"
   ]
  },
  {
   "cell_type": "code",
   "execution_count": 52,
   "id": "6d9bfcd8",
   "metadata": {},
   "outputs": [],
   "source": [
    "report_telco_churn_0 = ProfileReport(df_telco_churn_0)"
   ]
  },
  {
   "cell_type": "code",
   "execution_count": 53,
   "id": "8638ffa8",
   "metadata": {},
   "outputs": [
    {
     "data": {
      "application/vnd.jupyter.widget-view+json": {
       "model_id": "89b330da4b9a4bf2ac276c4f6476b87e",
       "version_major": 2,
       "version_minor": 0
      },
      "text/plain": [
       "Summarize dataset:   0%|          | 0/5 [00:00<?, ?it/s]"
      ]
     },
     "metadata": {},
     "output_type": "display_data"
    },
    {
     "data": {
      "application/vnd.jupyter.widget-view+json": {
       "model_id": "a542379540df4f2ca9171785cd20e56f",
       "version_major": 2,
       "version_minor": 0
      },
      "text/plain": [
       "Generate report structure:   0%|          | 0/1 [00:00<?, ?it/s]"
      ]
     },
     "metadata": {},
     "output_type": "display_data"
    },
    {
     "data": {
      "application/vnd.jupyter.widget-view+json": {
       "model_id": "10b14a442a634acdb4eae6bf622ccbb6",
       "version_major": 2,
       "version_minor": 0
      },
      "text/plain": [
       "Render HTML:   0%|          | 0/1 [00:00<?, ?it/s]"
      ]
     },
     "metadata": {},
     "output_type": "display_data"
    },
    {
     "data": {
      "application/vnd.jupyter.widget-view+json": {
       "model_id": "4ac3d355aebe4079bcb88571803076ce",
       "version_major": 2,
       "version_minor": 0
      },
      "text/plain": [
       "Export report to file:   0%|          | 0/1 [00:00<?, ?it/s]"
      ]
     },
     "metadata": {},
     "output_type": "display_data"
    }
   ],
   "source": [
    "report_telco_churn_0.to_file(output_file='report_telco_churn_0.html')\n",
    "# see the file report_telco_churn_0.html on repository"
   ]
  },
  {
   "cell_type": "markdown",
   "id": "781e1ac7",
   "metadata": {},
   "source": [
    "### Conclusions Churn = 0\n",
    "- Mostly :\n",
    "    - are under 65 years old\n",
    "    - don't have dependents\n",
    "    - have phone service\n",
    "- Top 1 contract is month-to-month\n",
    "- Customer tenure (average) : 37 months\n",
    "- Account charges monthly (average): 61.30 US$\n",
    "- Customer tenure is highly correlated with Account charges total"
   ]
  },
  {
   "cell_type": "markdown",
   "id": "fe82ded2",
   "metadata": {},
   "source": [
    "### Churn = 1"
   ]
  },
  {
   "cell_type": "code",
   "execution_count": 54,
   "id": "ba44cffc",
   "metadata": {},
   "outputs": [],
   "source": [
    "df_telco_churn_1 = df_telco_clean[df_telco_clean['Churn'] == 1]"
   ]
  },
  {
   "cell_type": "code",
   "execution_count": 55,
   "id": "cb6b0e33",
   "metadata": {},
   "outputs": [
    {
     "data": {
      "text/html": [
       "<div>\n",
       "<style scoped>\n",
       "    .dataframe tbody tr th:only-of-type {\n",
       "        vertical-align: middle;\n",
       "    }\n",
       "\n",
       "    .dataframe tbody tr th {\n",
       "        vertical-align: top;\n",
       "    }\n",
       "\n",
       "    .dataframe thead th {\n",
       "        text-align: right;\n",
       "    }\n",
       "</style>\n",
       "<table border=\"1\" class=\"dataframe\">\n",
       "  <thead>\n",
       "    <tr style=\"text-align: right;\">\n",
       "      <th></th>\n",
       "      <th>customerID</th>\n",
       "      <th>Churn</th>\n",
       "      <th>customer_gender</th>\n",
       "      <th>customer_SeniorCitizen</th>\n",
       "      <th>customer_Partner</th>\n",
       "      <th>customer_Dependents</th>\n",
       "      <th>customer_tenure</th>\n",
       "      <th>phone_PhoneService</th>\n",
       "      <th>phone_MultipleLines</th>\n",
       "      <th>internet_InternetService</th>\n",
       "      <th>...</th>\n",
       "      <th>internet_DeviceProtection</th>\n",
       "      <th>internet_TechSupport</th>\n",
       "      <th>internet_StreamingTV</th>\n",
       "      <th>internet_StreamingMovies</th>\n",
       "      <th>account_Contract</th>\n",
       "      <th>account_PaperlessBilling</th>\n",
       "      <th>account_PaymentMethod</th>\n",
       "      <th>account_Charges_Monthly</th>\n",
       "      <th>account_Charges_Total</th>\n",
       "      <th>account_Charges_Daily</th>\n",
       "    </tr>\n",
       "  </thead>\n",
       "  <tbody>\n",
       "    <tr>\n",
       "      <th>2</th>\n",
       "      <td>0004-TLHLJ</td>\n",
       "      <td>1</td>\n",
       "      <td>Male</td>\n",
       "      <td>&lt; 65 years</td>\n",
       "      <td>No</td>\n",
       "      <td>No</td>\n",
       "      <td>4</td>\n",
       "      <td>Yes</td>\n",
       "      <td>No</td>\n",
       "      <td>Fiber optic</td>\n",
       "      <td>...</td>\n",
       "      <td>Yes</td>\n",
       "      <td>No</td>\n",
       "      <td>No</td>\n",
       "      <td>No</td>\n",
       "      <td>Month-to-month</td>\n",
       "      <td>Yes</td>\n",
       "      <td>Electronic check</td>\n",
       "      <td>73.9</td>\n",
       "      <td>280.85</td>\n",
       "      <td>2.46</td>\n",
       "    </tr>\n",
       "    <tr>\n",
       "      <th>3</th>\n",
       "      <td>0011-IGKFF</td>\n",
       "      <td>1</td>\n",
       "      <td>Male</td>\n",
       "      <td>&gt;= 65 years</td>\n",
       "      <td>Yes</td>\n",
       "      <td>No</td>\n",
       "      <td>13</td>\n",
       "      <td>Yes</td>\n",
       "      <td>No</td>\n",
       "      <td>Fiber optic</td>\n",
       "      <td>...</td>\n",
       "      <td>Yes</td>\n",
       "      <td>No</td>\n",
       "      <td>Yes</td>\n",
       "      <td>Yes</td>\n",
       "      <td>Month-to-month</td>\n",
       "      <td>Yes</td>\n",
       "      <td>Electronic check</td>\n",
       "      <td>98.0</td>\n",
       "      <td>1237.85</td>\n",
       "      <td>3.27</td>\n",
       "    </tr>\n",
       "    <tr>\n",
       "      <th>4</th>\n",
       "      <td>0013-EXCHZ</td>\n",
       "      <td>1</td>\n",
       "      <td>Female</td>\n",
       "      <td>&gt;= 65 years</td>\n",
       "      <td>Yes</td>\n",
       "      <td>No</td>\n",
       "      <td>3</td>\n",
       "      <td>Yes</td>\n",
       "      <td>No</td>\n",
       "      <td>Fiber optic</td>\n",
       "      <td>...</td>\n",
       "      <td>No</td>\n",
       "      <td>Yes</td>\n",
       "      <td>Yes</td>\n",
       "      <td>No</td>\n",
       "      <td>Month-to-month</td>\n",
       "      <td>Yes</td>\n",
       "      <td>Mailed check</td>\n",
       "      <td>83.9</td>\n",
       "      <td>267.40</td>\n",
       "      <td>2.80</td>\n",
       "    </tr>\n",
       "    <tr>\n",
       "      <th>18</th>\n",
       "      <td>0022-TCJCI</td>\n",
       "      <td>1</td>\n",
       "      <td>Male</td>\n",
       "      <td>&gt;= 65 years</td>\n",
       "      <td>No</td>\n",
       "      <td>No</td>\n",
       "      <td>45</td>\n",
       "      <td>Yes</td>\n",
       "      <td>No</td>\n",
       "      <td>DSL</td>\n",
       "      <td>...</td>\n",
       "      <td>Yes</td>\n",
       "      <td>No</td>\n",
       "      <td>No</td>\n",
       "      <td>Yes</td>\n",
       "      <td>One year</td>\n",
       "      <td>No</td>\n",
       "      <td>Credit card (automatic)</td>\n",
       "      <td>62.7</td>\n",
       "      <td>2791.50</td>\n",
       "      <td>2.09</td>\n",
       "    </tr>\n",
       "    <tr>\n",
       "      <th>19</th>\n",
       "      <td>0023-HGHWL</td>\n",
       "      <td>1</td>\n",
       "      <td>Male</td>\n",
       "      <td>&gt;= 65 years</td>\n",
       "      <td>No</td>\n",
       "      <td>No</td>\n",
       "      <td>1</td>\n",
       "      <td>No</td>\n",
       "      <td>No phone service</td>\n",
       "      <td>DSL</td>\n",
       "      <td>...</td>\n",
       "      <td>No</td>\n",
       "      <td>No</td>\n",
       "      <td>No</td>\n",
       "      <td>No</td>\n",
       "      <td>Month-to-month</td>\n",
       "      <td>Yes</td>\n",
       "      <td>Electronic check</td>\n",
       "      <td>25.1</td>\n",
       "      <td>25.10</td>\n",
       "      <td>0.84</td>\n",
       "    </tr>\n",
       "  </tbody>\n",
       "</table>\n",
       "<p>5 rows × 22 columns</p>\n",
       "</div>"
      ],
      "text/plain": [
       "    customerID  Churn customer_gender customer_SeniorCitizen customer_Partner  \\\n",
       "2   0004-TLHLJ      1            Male             < 65 years               No   \n",
       "3   0011-IGKFF      1            Male            >= 65 years              Yes   \n",
       "4   0013-EXCHZ      1          Female            >= 65 years              Yes   \n",
       "18  0022-TCJCI      1            Male            >= 65 years               No   \n",
       "19  0023-HGHWL      1            Male            >= 65 years               No   \n",
       "\n",
       "   customer_Dependents  customer_tenure phone_PhoneService  \\\n",
       "2                   No                4                Yes   \n",
       "3                   No               13                Yes   \n",
       "4                   No                3                Yes   \n",
       "18                  No               45                Yes   \n",
       "19                  No                1                 No   \n",
       "\n",
       "   phone_MultipleLines internet_InternetService  ...  \\\n",
       "2                   No              Fiber optic  ...   \n",
       "3                   No              Fiber optic  ...   \n",
       "4                   No              Fiber optic  ...   \n",
       "18                  No                      DSL  ...   \n",
       "19    No phone service                      DSL  ...   \n",
       "\n",
       "   internet_DeviceProtection internet_TechSupport internet_StreamingTV  \\\n",
       "2                        Yes                   No                   No   \n",
       "3                        Yes                   No                  Yes   \n",
       "4                         No                  Yes                  Yes   \n",
       "18                       Yes                   No                   No   \n",
       "19                        No                   No                   No   \n",
       "\n",
       "   internet_StreamingMovies account_Contract account_PaperlessBilling  \\\n",
       "2                        No   Month-to-month                      Yes   \n",
       "3                       Yes   Month-to-month                      Yes   \n",
       "4                        No   Month-to-month                      Yes   \n",
       "18                      Yes         One year                       No   \n",
       "19                       No   Month-to-month                      Yes   \n",
       "\n",
       "      account_PaymentMethod account_Charges_Monthly account_Charges_Total  \\\n",
       "2          Electronic check                    73.9                280.85   \n",
       "3          Electronic check                    98.0               1237.85   \n",
       "4              Mailed check                    83.9                267.40   \n",
       "18  Credit card (automatic)                    62.7               2791.50   \n",
       "19         Electronic check                    25.1                 25.10   \n",
       "\n",
       "    account_Charges_Daily  \n",
       "2                    2.46  \n",
       "3                    3.27  \n",
       "4                    2.80  \n",
       "18                   2.09  \n",
       "19                   0.84  \n",
       "\n",
       "[5 rows x 22 columns]"
      ]
     },
     "execution_count": 55,
     "metadata": {},
     "output_type": "execute_result"
    }
   ],
   "source": [
    "df_telco_churn_1.head(5)"
   ]
  },
  {
   "cell_type": "code",
   "execution_count": 56,
   "id": "ba192a97",
   "metadata": {},
   "outputs": [
    {
     "name": "stdout",
     "output_type": "stream",
     "text": [
      "customer_gender\n",
      "Female    0.502408\n",
      "Male      0.497592\n",
      "Name: customer_gender, dtype: float64\n",
      "\n",
      "customer_SeniorCitizen\n",
      "< 65 years     0.745318\n",
      ">= 65 years    0.254682\n",
      "Name: customer_SeniorCitizen, dtype: float64\n",
      "\n",
      "customer_Partner\n",
      "No     0.642055\n",
      "Yes    0.357945\n",
      "Name: customer_Partner, dtype: float64\n",
      "\n",
      "customer_Dependents\n",
      "No     0.825575\n",
      "Yes    0.174425\n",
      "Name: customer_Dependents, dtype: float64\n",
      "\n",
      "phone_PhoneService\n",
      "Yes    0.909042\n",
      "No     0.090958\n",
      "Name: phone_PhoneService, dtype: float64\n",
      "\n",
      "phone_MultipleLines\n",
      "Yes                 0.454789\n",
      "No                  0.454254\n",
      "No phone service    0.090958\n",
      "Name: phone_MultipleLines, dtype: float64\n",
      "\n",
      "internet_InternetService\n",
      "Fiber optic    0.693954\n",
      "DSL            0.245586\n",
      "No             0.060460\n",
      "Name: internet_InternetService, dtype: float64\n",
      "\n",
      "internet_OnlineSecurity\n",
      "No                     0.781701\n",
      "Yes                    0.157838\n",
      "No internet service    0.060460\n",
      "Name: internet_OnlineSecurity, dtype: float64\n",
      "\n",
      "internet_OnlineBackup\n",
      "No                     0.659711\n",
      "Yes                    0.279829\n",
      "No internet service    0.060460\n",
      "Name: internet_OnlineBackup, dtype: float64\n",
      "\n",
      "internet_DeviceProtection\n",
      "No                     0.64794\n",
      "Yes                    0.29160\n",
      "No internet service    0.06046\n",
      "Name: internet_DeviceProtection, dtype: float64\n",
      "\n",
      "internet_TechSupport\n",
      "No                     0.773676\n",
      "Yes                    0.165864\n",
      "No internet service    0.060460\n",
      "Name: internet_TechSupport, dtype: float64\n",
      "\n",
      "internet_StreamingTV\n",
      "No                     0.504013\n",
      "Yes                    0.435527\n",
      "No internet service    0.060460\n",
      "Name: internet_StreamingTV, dtype: float64\n",
      "\n",
      "internet_StreamingMovies\n",
      "No                     0.501873\n",
      "Yes                    0.437667\n",
      "No internet service    0.060460\n",
      "Name: internet_StreamingMovies, dtype: float64\n",
      "\n",
      "account_Contract\n",
      "Month-to-month    0.885500\n",
      "One year          0.088818\n",
      "Two year          0.025682\n",
      "Name: account_Contract, dtype: float64\n",
      "\n",
      "account_PaperlessBilling\n",
      "Yes    0.749064\n",
      "No     0.250936\n",
      "Name: account_PaperlessBilling, dtype: float64\n",
      "\n",
      "account_PaymentMethod\n",
      "Electronic check             0.573034\n",
      "Mailed check                 0.164794\n",
      "Bank transfer (automatic)    0.138042\n",
      "Credit card (automatic)      0.124131\n",
      "Name: account_PaymentMethod, dtype: float64\n",
      "\n"
     ]
    }
   ],
   "source": [
    "#analysing categorical features\n",
    "for column in list_cat:\n",
    "  print(column)\n",
    "  print(df_telco_churn_1[column].value_counts(normalize = True))\n",
    "  print()"
   ]
  },
  {
   "cell_type": "code",
   "execution_count": 57,
   "id": "08f65ea6",
   "metadata": {},
   "outputs": [
    {
     "name": "stdout",
     "output_type": "stream",
     "text": [
      "customer_gender\n"
     ]
    },
    {
     "data": {
      "image/png": "[encoded data removed]",
      "text/plain": [
       "<Figure size 432x288 with 1 Axes>"
      ]
     },
     "metadata": {
      "needs_background": "light"
     },
     "output_type": "display_data"
    },
    {
     "name": "stdout",
     "output_type": "stream",
     "text": [
      "customer_SeniorCitizen\n"
     ]
    },
    {
     "data": {
      "image/png": "[encoded data removed]",
      "text/plain": [
       "<Figure size 432x288 with 1 Axes>"
      ]
     },
     "metadata": {
      "needs_background": "light"
     },
     "output_type": "display_data"
    },
    {
     "name": "stdout",
     "output_type": "stream",
     "text": [
      "customer_Partner\n"
     ]
    },
    {
     "data": {
      "image/png": "[encoded data removed]",
      "text/plain": [
       "<Figure size 432x288 with 1 Axes>"
      ]
     },
     "metadata": {
      "needs_background": "light"
     },
     "output_type": "display_data"
    },
    {
     "name": "stdout",
     "output_type": "stream",
     "text": [
      "customer_Dependents\n"
     ]
    },
    {
     "data": {
      "image/png": "[encoded data removed]",
      "text/plain": [
       "<Figure size 432x288 with 1 Axes>"
      ]
     },
     "metadata": {
      "needs_background": "light"
     },
     "output_type": "display_data"
    },
    {
     "name": "stdout",
     "output_type": "stream",
     "text": [
      "phone_PhoneService\n"
     ]
    },
    {
     "data": {
      "image/png": "[encoded data removed]",
      "text/plain": [
       "<Figure size 432x288 with 1 Axes>"
      ]
     },
     "metadata": {
      "needs_background": "light"
     },
     "output_type": "display_data"
    },
    {
     "name": "stdout",
     "output_type": "stream",
     "text": [
      "phone_MultipleLines\n"
     ]
    },
    {
     "data": {
      "image/png": "[encoded data removed]",
      "text/plain": [
       "<Figure size 432x288 with 1 Axes>"
      ]
     },
     "metadata": {
      "needs_background": "light"
     },
     "output_type": "display_data"
    },
    {
     "name": "stdout",
     "output_type": "stream",
     "text": [
      "internet_InternetService\n"
     ]
    },
    {
     "data": {
      "image/png": "[encoded data removed]",
      "text/plain": [
       "<Figure size 432x288 with 1 Axes>"
      ]
     },
     "metadata": {
      "needs_background": "light"
     },
     "output_type": "display_data"
    },
    {
     "name": "stdout",
     "output_type": "stream",
     "text": [
      "internet_OnlineSecurity\n"
     ]
    },
    {
     "data": {
      "image/png": "[encoded data removed]",
      "text/plain": [
       "<Figure size 432x288 with 1 Axes>"
      ]
     },
     "metadata": {
      "needs_background": "light"
     },
     "output_type": "display_data"
    },
    {
     "name": "stdout",
     "output_type": "stream",
     "text": [
      "internet_OnlineBackup\n"
     ]
    },
    {
     "data": {
      "image/png": "[encoded data removed]",
      "text/plain": [
       "<Figure size 432x288 with 1 Axes>"
      ]
     },
     "metadata": {
      "needs_background": "light"
     },
     "output_type": "display_data"
    },
    {
     "name": "stdout",
     "output_type": "stream",
     "text": [
      "internet_DeviceProtection\n"
     ]
    },
    {
     "data": {
      "image/png": "[encoded data removed]",
      "text/plain": [
       "<Figure size 432x288 with 1 Axes>"
      ]
     },
     "metadata": {
      "needs_background": "light"
     },
     "output_type": "display_data"
    },
    {
     "name": "stdout",
     "output_type": "stream",
     "text": [
      "internet_TechSupport\n"
     ]
    },
    {
     "data": {
      "image/png": "[encoded data removed]",
      "text/plain": [
       "<Figure size 432x288 with 1 Axes>"
      ]
     },
     "metadata": {
      "needs_background": "light"
     },
     "output_type": "display_data"
    },
    {
     "name": "stdout",
     "output_type": "stream",
     "text": [
      "internet_StreamingTV\n"
     ]
    },
    {
     "data": {
      "image/png": "[encoded data removed]",
      "text/plain": [
       "<Figure size 432x288 with 1 Axes>"
      ]
     },
     "metadata": {
      "needs_background": "light"
     },
     "output_type": "display_data"
    },
    {
     "name": "stdout",
     "output_type": "stream",
     "text": [
      "internet_StreamingMovies\n"
     ]
    },
    {
     "data": {
      "image/png": "[encoded data removed]",
      "text/plain": [
       "<Figure size 432x288 with 1 Axes>"
      ]
     },
     "metadata": {
      "needs_background": "light"
     },
     "output_type": "display_data"
    },
    {
     "name": "stdout",
     "output_type": "stream",
     "text": [
      "account_Contract\n"
     ]
    },
    {
     "data": {
      "image/png": "[encoded data removed]",
      "text/plain": [
       "<Figure size 432x288 with 1 Axes>"
      ]
     },
     "metadata": {
      "needs_background": "light"
     },
     "output_type": "display_data"
    },
    {
     "name": "stdout",
     "output_type": "stream",
     "text": [
      "account_PaperlessBilling\n"
     ]
    },
    {
     "data": {
      "image/png": "[encoded data removed]",
      "text/plain": [
       "<Figure size 432x288 with 1 Axes>"
      ]
     },
     "metadata": {
      "needs_background": "light"
     },
     "output_type": "display_data"
    },
    {
     "name": "stdout",
     "output_type": "stream",
     "text": [
      "account_PaymentMethod\n"
     ]
    },
    {
     "data": {
      "image/png": "[encoded data removed]",
      "text/plain": [
       "<Figure size 432x288 with 1 Axes>"
      ]
     },
     "metadata": {
      "needs_background": "light"
     },
     "output_type": "display_data"
    }
   ],
   "source": [
    "%matplotlib inline \n",
    "# Histogram for categorical features\n",
    "for item in list_cat:\n",
    "  print(item)\n",
    "  plt.hist(df_telco_churn_0[item])\n",
    "  plt.show()"
   ]
  },
  {
   "cell_type": "code",
   "execution_count": 58,
   "id": "88ce85a3",
   "metadata": {},
   "outputs": [
    {
     "data": {
      "text/html": [
       "<div>\n",
       "<style scoped>\n",
       "    .dataframe tbody tr th:only-of-type {\n",
       "        vertical-align: middle;\n",
       "    }\n",
       "\n",
       "    .dataframe tbody tr th {\n",
       "        vertical-align: top;\n",
       "    }\n",
       "\n",
       "    .dataframe thead th {\n",
       "        text-align: right;\n",
       "    }\n",
       "</style>\n",
       "<table border=\"1\" class=\"dataframe\">\n",
       "  <thead>\n",
       "    <tr style=\"text-align: right;\">\n",
       "      <th></th>\n",
       "      <th>count</th>\n",
       "      <th>mean</th>\n",
       "      <th>std</th>\n",
       "      <th>min</th>\n",
       "      <th>25%</th>\n",
       "      <th>50%</th>\n",
       "      <th>75%</th>\n",
       "      <th>max</th>\n",
       "    </tr>\n",
       "  </thead>\n",
       "  <tbody>\n",
       "    <tr>\n",
       "      <th>Churn</th>\n",
       "      <td>1869.0</td>\n",
       "      <td>1.000000</td>\n",
       "      <td>0.000000</td>\n",
       "      <td>1.00</td>\n",
       "      <td>1.00</td>\n",
       "      <td>1.00</td>\n",
       "      <td>1.00</td>\n",
       "      <td>1.00</td>\n",
       "    </tr>\n",
       "    <tr>\n",
       "      <th>customer_tenure</th>\n",
       "      <td>1869.0</td>\n",
       "      <td>17.979133</td>\n",
       "      <td>19.531123</td>\n",
       "      <td>1.00</td>\n",
       "      <td>2.00</td>\n",
       "      <td>10.00</td>\n",
       "      <td>29.00</td>\n",
       "      <td>72.00</td>\n",
       "    </tr>\n",
       "    <tr>\n",
       "      <th>account_Charges_Monthly</th>\n",
       "      <td>1869.0</td>\n",
       "      <td>74.441332</td>\n",
       "      <td>24.666053</td>\n",
       "      <td>18.85</td>\n",
       "      <td>56.15</td>\n",
       "      <td>79.65</td>\n",
       "      <td>94.20</td>\n",
       "      <td>118.35</td>\n",
       "    </tr>\n",
       "    <tr>\n",
       "      <th>account_Charges_Total</th>\n",
       "      <td>1869.0</td>\n",
       "      <td>1531.796094</td>\n",
       "      <td>1890.822994</td>\n",
       "      <td>18.85</td>\n",
       "      <td>134.50</td>\n",
       "      <td>703.55</td>\n",
       "      <td>2331.30</td>\n",
       "      <td>8684.80</td>\n",
       "    </tr>\n",
       "    <tr>\n",
       "      <th>account_Charges_Daily</th>\n",
       "      <td>1869.0</td>\n",
       "      <td>2.481450</td>\n",
       "      <td>0.822287</td>\n",
       "      <td>0.63</td>\n",
       "      <td>1.87</td>\n",
       "      <td>2.66</td>\n",
       "      <td>3.14</td>\n",
       "      <td>3.94</td>\n",
       "    </tr>\n",
       "  </tbody>\n",
       "</table>\n",
       "</div>"
      ],
      "text/plain": [
       "                          count         mean          std    min     25%  \\\n",
       "Churn                    1869.0     1.000000     0.000000   1.00    1.00   \n",
       "customer_tenure          1869.0    17.979133    19.531123   1.00    2.00   \n",
       "account_Charges_Monthly  1869.0    74.441332    24.666053  18.85   56.15   \n",
       "account_Charges_Total    1869.0  1531.796094  1890.822994  18.85  134.50   \n",
       "account_Charges_Daily    1869.0     2.481450     0.822287   0.63    1.87   \n",
       "\n",
       "                            50%      75%      max  \n",
       "Churn                      1.00     1.00     1.00  \n",
       "customer_tenure           10.00    29.00    72.00  \n",
       "account_Charges_Monthly   79.65    94.20   118.35  \n",
       "account_Charges_Total    703.55  2331.30  8684.80  \n",
       "account_Charges_Daily      2.66     3.14     3.94  "
      ]
     },
     "execution_count": 58,
     "metadata": {},
     "output_type": "execute_result"
    }
   ],
   "source": [
    "df_telco_churn_1.describe().T"
   ]
  },
  {
   "cell_type": "code",
   "execution_count": 59,
   "id": "3aab4d30",
   "metadata": {},
   "outputs": [],
   "source": [
    "report_telco_churn_1 = ProfileReport(df_telco_churn_1)"
   ]
  },
  {
   "cell_type": "code",
   "execution_count": 60,
   "id": "29c4e2c4",
   "metadata": {},
   "outputs": [
    {
     "data": {
      "application/vnd.jupyter.widget-view+json": {
       "model_id": "2b63600100aa4b9593981221967d59f4",
       "version_major": 2,
       "version_minor": 0
      },
      "text/plain": [
       "Summarize dataset:   0%|          | 0/5 [00:00<?, ?it/s]"
      ]
     },
     "metadata": {},
     "output_type": "display_data"
    },
    {
     "data": {
      "application/vnd.jupyter.widget-view+json": {
       "model_id": "fb6e4347fb1646d5b3b9f7b72e38fc15",
       "version_major": 2,
       "version_minor": 0
      },
      "text/plain": [
       "Generate report structure:   0%|          | 0/1 [00:00<?, ?it/s]"
      ]
     },
     "metadata": {},
     "output_type": "display_data"
    },
    {
     "data": {
      "application/vnd.jupyter.widget-view+json": {
       "model_id": "8875a8bec5084a94970526658322c260",
       "version_major": 2,
       "version_minor": 0
      },
      "text/plain": [
       "Render HTML:   0%|          | 0/1 [00:00<?, ?it/s]"
      ]
     },
     "metadata": {},
     "output_type": "display_data"
    },
    {
     "data": {
      "application/vnd.jupyter.widget-view+json": {
       "model_id": "e478156d62e9474cbbcc622cbc5451d6",
       "version_major": 2,
       "version_minor": 0
      },
      "text/plain": [
       "Export report to file:   0%|          | 0/1 [00:00<?, ?it/s]"
      ]
     },
     "metadata": {},
     "output_type": "display_data"
    }
   ],
   "source": [
    "report_telco_churn_1.to_file(output_file='report_telco_churn_1.html')\n",
    "# see the file report_telco_churn_1.html on repository"
   ]
  },
  {
   "cell_type": "markdown",
   "id": "1d2c7770",
   "metadata": {},
   "source": [
    "### Conclusions Churn = 1\n",
    "- Mostly :\n",
    "    - are under 65 years old\n",
    "    - don´t have customer partner\n",
    "    - don't have dependents\n",
    "    - have phone service\n",
    "    - have fiber optic internet\n",
    "    - have internet Online Security\n",
    "    - have internet OnlineBackup\n",
    "    - have internet Device Protection\n",
    "    - have internet TechSupport\n",
    "    - have monthly contract\n",
    "    - have Paperless Billing   \n",
    "- Customer tenure (average) : 17 months\n",
    "- Account charges monthly (average): 74.44 US$\n",
    "- Customer tenure is highly correlated with Account charges total"
   ]
  }
 ],
 "metadata": {
  "kernelspec": {
   "display_name": "Python 3 (ipykernel)",
   "language": "python",
   "name": "python3"
  },
  "language_info": {
   "codemirror_mode": {
    "name": "ipython",
    "version": 3
   },
   "file_extension": ".py",
   "mimetype": "text/x-python",
   "name": "python",
   "nbconvert_exporter": "python",
   "pygments_lexer": "ipython3",
   "version": "3.7.6"
  }
 },
 "nbformat": 4,
 "nbformat_minor": 5
}
