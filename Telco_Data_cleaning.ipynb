{
 "cells": [
  {
   "cell_type": "markdown",
   "id": "effe71db",
   "metadata": {},
   "source": [
    "## Libraries"
   ]
  },
  {
   "cell_type": "code",
   "execution_count": 108,
   "id": "0863f952",
   "metadata": {},
   "outputs": [],
   "source": [
    "import pandas as pd\n",
    "import numpy as np\n",
    "from flatten_json import flatten\n",
    "import json\n",
    "import seaborn as sns\n",
    "import matplotlib.pyplot as plt\n",
    "%matplotlib inline "
   ]
  },
  {
   "cell_type": "markdown",
   "id": "35ddc01e",
   "metadata": {},
   "source": [
    "## Data import"
   ]
  },
  {
   "cell_type": "code",
   "execution_count": 109,
   "id": "9bbc8460",
   "metadata": {},
   "outputs": [],
   "source": [
    "with open('Telco-Customer-Churn.json') as file:\n",
    "    data = json.load(file)"
   ]
  },
  {
   "cell_type": "code",
   "execution_count": 110,
   "id": "f704a1da",
   "metadata": {},
   "outputs": [],
   "source": [
    "dict_flatten = (flatten(d) for d in data)"
   ]
  },
  {
   "cell_type": "code",
   "execution_count": 111,
   "id": "f5c2e61d",
   "metadata": {},
   "outputs": [
    {
     "data": {
      "text/plain": [
       "<generator object <genexpr> at 0x000001E2002759C8>"
      ]
     },
     "execution_count": 111,
     "metadata": {},
     "output_type": "execute_result"
    }
   ],
   "source": [
    "dict_flatten"
   ]
  },
  {
   "cell_type": "code",
   "execution_count": 112,
   "id": "dac0568c",
   "metadata": {},
   "outputs": [],
   "source": [
    "df_telco = pd.DataFrame(dict_flatten)"
   ]
  },
  {
   "cell_type": "code",
   "execution_count": 113,
   "id": "02ff1dd7",
   "metadata": {},
   "outputs": [
    {
     "data": {
      "text/html": [
       "<div>\n",
       "<style scoped>\n",
       "    .dataframe tbody tr th:only-of-type {\n",
       "        vertical-align: middle;\n",
       "    }\n",
       "\n",
       "    .dataframe tbody tr th {\n",
       "        vertical-align: top;\n",
       "    }\n",
       "\n",
       "    .dataframe thead th {\n",
       "        text-align: right;\n",
       "    }\n",
       "</style>\n",
       "<table border=\"1\" class=\"dataframe\">\n",
       "  <thead>\n",
       "    <tr style=\"text-align: right;\">\n",
       "      <th></th>\n",
       "      <th>customerID</th>\n",
       "      <th>Churn</th>\n",
       "      <th>customer_gender</th>\n",
       "      <th>customer_SeniorCitizen</th>\n",
       "      <th>customer_Partner</th>\n",
       "      <th>customer_Dependents</th>\n",
       "      <th>customer_tenure</th>\n",
       "      <th>phone_PhoneService</th>\n",
       "      <th>phone_MultipleLines</th>\n",
       "      <th>internet_InternetService</th>\n",
       "      <th>...</th>\n",
       "      <th>internet_OnlineBackup</th>\n",
       "      <th>internet_DeviceProtection</th>\n",
       "      <th>internet_TechSupport</th>\n",
       "      <th>internet_StreamingTV</th>\n",
       "      <th>internet_StreamingMovies</th>\n",
       "      <th>account_Contract</th>\n",
       "      <th>account_PaperlessBilling</th>\n",
       "      <th>account_PaymentMethod</th>\n",
       "      <th>account_Charges_Monthly</th>\n",
       "      <th>account_Charges_Total</th>\n",
       "    </tr>\n",
       "  </thead>\n",
       "  <tbody>\n",
       "    <tr>\n",
       "      <th>0</th>\n",
       "      <td>0002-ORFBO</td>\n",
       "      <td>No</td>\n",
       "      <td>Female</td>\n",
       "      <td>0</td>\n",
       "      <td>Yes</td>\n",
       "      <td>Yes</td>\n",
       "      <td>9</td>\n",
       "      <td>Yes</td>\n",
       "      <td>No</td>\n",
       "      <td>DSL</td>\n",
       "      <td>...</td>\n",
       "      <td>Yes</td>\n",
       "      <td>No</td>\n",
       "      <td>Yes</td>\n",
       "      <td>Yes</td>\n",
       "      <td>No</td>\n",
       "      <td>One year</td>\n",
       "      <td>Yes</td>\n",
       "      <td>Mailed check</td>\n",
       "      <td>65.6</td>\n",
       "      <td>593.3</td>\n",
       "    </tr>\n",
       "    <tr>\n",
       "      <th>1</th>\n",
       "      <td>0003-MKNFE</td>\n",
       "      <td>No</td>\n",
       "      <td>Male</td>\n",
       "      <td>0</td>\n",
       "      <td>No</td>\n",
       "      <td>No</td>\n",
       "      <td>9</td>\n",
       "      <td>Yes</td>\n",
       "      <td>Yes</td>\n",
       "      <td>DSL</td>\n",
       "      <td>...</td>\n",
       "      <td>No</td>\n",
       "      <td>No</td>\n",
       "      <td>No</td>\n",
       "      <td>No</td>\n",
       "      <td>Yes</td>\n",
       "      <td>Month-to-month</td>\n",
       "      <td>No</td>\n",
       "      <td>Mailed check</td>\n",
       "      <td>59.9</td>\n",
       "      <td>542.4</td>\n",
       "    </tr>\n",
       "    <tr>\n",
       "      <th>2</th>\n",
       "      <td>0004-TLHLJ</td>\n",
       "      <td>Yes</td>\n",
       "      <td>Male</td>\n",
       "      <td>0</td>\n",
       "      <td>No</td>\n",
       "      <td>No</td>\n",
       "      <td>4</td>\n",
       "      <td>Yes</td>\n",
       "      <td>No</td>\n",
       "      <td>Fiber optic</td>\n",
       "      <td>...</td>\n",
       "      <td>No</td>\n",
       "      <td>Yes</td>\n",
       "      <td>No</td>\n",
       "      <td>No</td>\n",
       "      <td>No</td>\n",
       "      <td>Month-to-month</td>\n",
       "      <td>Yes</td>\n",
       "      <td>Electronic check</td>\n",
       "      <td>73.9</td>\n",
       "      <td>280.85</td>\n",
       "    </tr>\n",
       "    <tr>\n",
       "      <th>3</th>\n",
       "      <td>0011-IGKFF</td>\n",
       "      <td>Yes</td>\n",
       "      <td>Male</td>\n",
       "      <td>1</td>\n",
       "      <td>Yes</td>\n",
       "      <td>No</td>\n",
       "      <td>13</td>\n",
       "      <td>Yes</td>\n",
       "      <td>No</td>\n",
       "      <td>Fiber optic</td>\n",
       "      <td>...</td>\n",
       "      <td>Yes</td>\n",
       "      <td>Yes</td>\n",
       "      <td>No</td>\n",
       "      <td>Yes</td>\n",
       "      <td>Yes</td>\n",
       "      <td>Month-to-month</td>\n",
       "      <td>Yes</td>\n",
       "      <td>Electronic check</td>\n",
       "      <td>98.0</td>\n",
       "      <td>1237.85</td>\n",
       "    </tr>\n",
       "    <tr>\n",
       "      <th>4</th>\n",
       "      <td>0013-EXCHZ</td>\n",
       "      <td>Yes</td>\n",
       "      <td>Female</td>\n",
       "      <td>1</td>\n",
       "      <td>Yes</td>\n",
       "      <td>No</td>\n",
       "      <td>3</td>\n",
       "      <td>Yes</td>\n",
       "      <td>No</td>\n",
       "      <td>Fiber optic</td>\n",
       "      <td>...</td>\n",
       "      <td>No</td>\n",
       "      <td>No</td>\n",
       "      <td>Yes</td>\n",
       "      <td>Yes</td>\n",
       "      <td>No</td>\n",
       "      <td>Month-to-month</td>\n",
       "      <td>Yes</td>\n",
       "      <td>Mailed check</td>\n",
       "      <td>83.9</td>\n",
       "      <td>267.4</td>\n",
       "    </tr>\n",
       "  </tbody>\n",
       "</table>\n",
       "<p>5 rows × 21 columns</p>\n",
       "</div>"
      ],
      "text/plain": [
       "   customerID Churn customer_gender  customer_SeniorCitizen customer_Partner  \\\n",
       "0  0002-ORFBO    No          Female                       0              Yes   \n",
       "1  0003-MKNFE    No            Male                       0               No   \n",
       "2  0004-TLHLJ   Yes            Male                       0               No   \n",
       "3  0011-IGKFF   Yes            Male                       1              Yes   \n",
       "4  0013-EXCHZ   Yes          Female                       1              Yes   \n",
       "\n",
       "  customer_Dependents  customer_tenure phone_PhoneService phone_MultipleLines  \\\n",
       "0                 Yes                9                Yes                  No   \n",
       "1                  No                9                Yes                 Yes   \n",
       "2                  No                4                Yes                  No   \n",
       "3                  No               13                Yes                  No   \n",
       "4                  No                3                Yes                  No   \n",
       "\n",
       "  internet_InternetService  ... internet_OnlineBackup  \\\n",
       "0                      DSL  ...                   Yes   \n",
       "1                      DSL  ...                    No   \n",
       "2              Fiber optic  ...                    No   \n",
       "3              Fiber optic  ...                   Yes   \n",
       "4              Fiber optic  ...                    No   \n",
       "\n",
       "  internet_DeviceProtection internet_TechSupport internet_StreamingTV  \\\n",
       "0                        No                  Yes                  Yes   \n",
       "1                        No                   No                   No   \n",
       "2                       Yes                   No                   No   \n",
       "3                       Yes                   No                  Yes   \n",
       "4                        No                  Yes                  Yes   \n",
       "\n",
       "  internet_StreamingMovies account_Contract account_PaperlessBilling  \\\n",
       "0                       No         One year                      Yes   \n",
       "1                      Yes   Month-to-month                       No   \n",
       "2                       No   Month-to-month                      Yes   \n",
       "3                      Yes   Month-to-month                      Yes   \n",
       "4                       No   Month-to-month                      Yes   \n",
       "\n",
       "  account_PaymentMethod account_Charges_Monthly  account_Charges_Total  \n",
       "0          Mailed check                    65.6                  593.3  \n",
       "1          Mailed check                    59.9                  542.4  \n",
       "2      Electronic check                    73.9                 280.85  \n",
       "3      Electronic check                    98.0                1237.85  \n",
       "4          Mailed check                    83.9                  267.4  \n",
       "\n",
       "[5 rows x 21 columns]"
      ]
     },
     "execution_count": 113,
     "metadata": {},
     "output_type": "execute_result"
    }
   ],
   "source": [
    "df_telco.head()\n"
   ]
  },
  {
   "cell_type": "markdown",
   "id": "c2c4a3a9",
   "metadata": {},
   "source": [
    "### Data dictionary\n",
    "- customerID: unique identification number of each customer\n",
    "- Churn: Whether or not the customer left the company\n",
    "- gender: gender (male and female)\n",
    "- SeniorCitizen: information about whether or not a customer is 65 years of age or older\n",
    "- Partner: whether or not the customer has a partner or partner\n",
    "- Dependents: whether or not the customer has dependents\n",
    "- tenure: months of customer contract\n",
    "- PhoneService: phone service subscription\n",
    "- MultipleLines: subscription to more than one phone line\n",
    "- InternetService: subscription to an internet provider\n",
    "- OnlineSecurity: Additional online security subscription\n",
    "- OnlineBackup: additional online backup subscription\n",
    "- DeviceProtection: Additional protection subscription on the device\n",
    "- TechSupport: Additional Technical Support Subscription, Less Waiting Time\n",
    "- StreamingTV: cable TV subscription\n",
    "- StreamingMovies: movie streaming subscription\n",
    "- Contract: type of contract\n",
    "- PaperlessBilling: if the customer prefers to receive the invoice online\n",
    "- PaymentMethod: payment method\n",
    "- Charges.Monthly: Total of all customer services per month\n",
    "- Charges.Total: total spent by the customer"
   ]
  },
  {
   "cell_type": "markdown",
   "id": "c163e6f0",
   "metadata": {},
   "source": [
    "## Data Cleaning\n",
    "- Useless columns\n",
    "- Data kind definition\n",
    "    - Null values\n",
    "    - Missing Analysis (%)\n",
    "        - Fill missings?\n",
    "- Duplicated column\n",
    "- Duplicated rows\n",
    "- Constant columns\n",
    "- Feature Analysis\n",
    "    - Outlier analysis\n",
    "- Data export"
   ]
  },
  {
   "cell_type": "code",
   "execution_count": 114,
   "id": "13aa934c",
   "metadata": {},
   "outputs": [
    {
     "data": {
      "text/html": [
       "<div>\n",
       "<style scoped>\n",
       "    .dataframe tbody tr th:only-of-type {\n",
       "        vertical-align: middle;\n",
       "    }\n",
       "\n",
       "    .dataframe tbody tr th {\n",
       "        vertical-align: top;\n",
       "    }\n",
       "\n",
       "    .dataframe thead th {\n",
       "        text-align: right;\n",
       "    }\n",
       "</style>\n",
       "<table border=\"1\" class=\"dataframe\">\n",
       "  <thead>\n",
       "    <tr style=\"text-align: right;\">\n",
       "      <th></th>\n",
       "      <th>count</th>\n",
       "      <th>mean</th>\n",
       "      <th>std</th>\n",
       "      <th>min</th>\n",
       "      <th>25%</th>\n",
       "      <th>50%</th>\n",
       "      <th>75%</th>\n",
       "      <th>max</th>\n",
       "    </tr>\n",
       "  </thead>\n",
       "  <tbody>\n",
       "    <tr>\n",
       "      <th>customer_SeniorCitizen</th>\n",
       "      <td>7267.0</td>\n",
       "      <td>0.162653</td>\n",
       "      <td>0.369074</td>\n",
       "      <td>0.00</td>\n",
       "      <td>0.000</td>\n",
       "      <td>0.0</td>\n",
       "      <td>0.000</td>\n",
       "      <td>1.00</td>\n",
       "    </tr>\n",
       "    <tr>\n",
       "      <th>customer_tenure</th>\n",
       "      <td>7267.0</td>\n",
       "      <td>32.346498</td>\n",
       "      <td>24.571773</td>\n",
       "      <td>0.00</td>\n",
       "      <td>9.000</td>\n",
       "      <td>29.0</td>\n",
       "      <td>55.000</td>\n",
       "      <td>72.00</td>\n",
       "    </tr>\n",
       "    <tr>\n",
       "      <th>account_Charges_Monthly</th>\n",
       "      <td>7267.0</td>\n",
       "      <td>64.720098</td>\n",
       "      <td>30.129572</td>\n",
       "      <td>18.25</td>\n",
       "      <td>35.425</td>\n",
       "      <td>70.3</td>\n",
       "      <td>89.875</td>\n",
       "      <td>118.75</td>\n",
       "    </tr>\n",
       "  </tbody>\n",
       "</table>\n",
       "</div>"
      ],
      "text/plain": [
       "                          count       mean        std    min     25%   50%  \\\n",
       "customer_SeniorCitizen   7267.0   0.162653   0.369074   0.00   0.000   0.0   \n",
       "customer_tenure          7267.0  32.346498  24.571773   0.00   9.000  29.0   \n",
       "account_Charges_Monthly  7267.0  64.720098  30.129572  18.25  35.425  70.3   \n",
       "\n",
       "                            75%     max  \n",
       "customer_SeniorCitizen    0.000    1.00  \n",
       "customer_tenure          55.000   72.00  \n",
       "account_Charges_Monthly  89.875  118.75  "
      ]
     },
     "execution_count": 114,
     "metadata": {},
     "output_type": "execute_result"
    }
   ],
   "source": [
    "#describe\n",
    "df_telco.describe().T"
   ]
  },
  {
   "cell_type": "markdown",
   "id": "ca713192",
   "metadata": {},
   "source": [
    "### Useless columns"
   ]
  },
  {
   "cell_type": "code",
   "execution_count": 115,
   "id": "40f50119",
   "metadata": {},
   "outputs": [
    {
     "data": {
      "text/html": [
       "<div>\n",
       "<style scoped>\n",
       "    .dataframe tbody tr th:only-of-type {\n",
       "        vertical-align: middle;\n",
       "    }\n",
       "\n",
       "    .dataframe tbody tr th {\n",
       "        vertical-align: top;\n",
       "    }\n",
       "\n",
       "    .dataframe thead th {\n",
       "        text-align: right;\n",
       "    }\n",
       "</style>\n",
       "<table border=\"1\" class=\"dataframe\">\n",
       "  <thead>\n",
       "    <tr style=\"text-align: right;\">\n",
       "      <th></th>\n",
       "      <th>customerID</th>\n",
       "      <th>Churn</th>\n",
       "      <th>customer_gender</th>\n",
       "      <th>customer_SeniorCitizen</th>\n",
       "      <th>customer_Partner</th>\n",
       "      <th>customer_Dependents</th>\n",
       "      <th>customer_tenure</th>\n",
       "      <th>phone_PhoneService</th>\n",
       "      <th>phone_MultipleLines</th>\n",
       "      <th>internet_InternetService</th>\n",
       "      <th>...</th>\n",
       "      <th>internet_OnlineBackup</th>\n",
       "      <th>internet_DeviceProtection</th>\n",
       "      <th>internet_TechSupport</th>\n",
       "      <th>internet_StreamingTV</th>\n",
       "      <th>internet_StreamingMovies</th>\n",
       "      <th>account_Contract</th>\n",
       "      <th>account_PaperlessBilling</th>\n",
       "      <th>account_PaymentMethod</th>\n",
       "      <th>account_Charges_Monthly</th>\n",
       "      <th>account_Charges_Total</th>\n",
       "    </tr>\n",
       "  </thead>\n",
       "  <tbody>\n",
       "    <tr>\n",
       "      <th>0</th>\n",
       "      <td>0002-ORFBO</td>\n",
       "      <td>No</td>\n",
       "      <td>Female</td>\n",
       "      <td>0</td>\n",
       "      <td>Yes</td>\n",
       "      <td>Yes</td>\n",
       "      <td>9</td>\n",
       "      <td>Yes</td>\n",
       "      <td>No</td>\n",
       "      <td>DSL</td>\n",
       "      <td>...</td>\n",
       "      <td>Yes</td>\n",
       "      <td>No</td>\n",
       "      <td>Yes</td>\n",
       "      <td>Yes</td>\n",
       "      <td>No</td>\n",
       "      <td>One year</td>\n",
       "      <td>Yes</td>\n",
       "      <td>Mailed check</td>\n",
       "      <td>65.6</td>\n",
       "      <td>593.3</td>\n",
       "    </tr>\n",
       "    <tr>\n",
       "      <th>1</th>\n",
       "      <td>0003-MKNFE</td>\n",
       "      <td>No</td>\n",
       "      <td>Male</td>\n",
       "      <td>0</td>\n",
       "      <td>No</td>\n",
       "      <td>No</td>\n",
       "      <td>9</td>\n",
       "      <td>Yes</td>\n",
       "      <td>Yes</td>\n",
       "      <td>DSL</td>\n",
       "      <td>...</td>\n",
       "      <td>No</td>\n",
       "      <td>No</td>\n",
       "      <td>No</td>\n",
       "      <td>No</td>\n",
       "      <td>Yes</td>\n",
       "      <td>Month-to-month</td>\n",
       "      <td>No</td>\n",
       "      <td>Mailed check</td>\n",
       "      <td>59.9</td>\n",
       "      <td>542.4</td>\n",
       "    </tr>\n",
       "    <tr>\n",
       "      <th>2</th>\n",
       "      <td>0004-TLHLJ</td>\n",
       "      <td>Yes</td>\n",
       "      <td>Male</td>\n",
       "      <td>0</td>\n",
       "      <td>No</td>\n",
       "      <td>No</td>\n",
       "      <td>4</td>\n",
       "      <td>Yes</td>\n",
       "      <td>No</td>\n",
       "      <td>Fiber optic</td>\n",
       "      <td>...</td>\n",
       "      <td>No</td>\n",
       "      <td>Yes</td>\n",
       "      <td>No</td>\n",
       "      <td>No</td>\n",
       "      <td>No</td>\n",
       "      <td>Month-to-month</td>\n",
       "      <td>Yes</td>\n",
       "      <td>Electronic check</td>\n",
       "      <td>73.9</td>\n",
       "      <td>280.85</td>\n",
       "    </tr>\n",
       "    <tr>\n",
       "      <th>3</th>\n",
       "      <td>0011-IGKFF</td>\n",
       "      <td>Yes</td>\n",
       "      <td>Male</td>\n",
       "      <td>1</td>\n",
       "      <td>Yes</td>\n",
       "      <td>No</td>\n",
       "      <td>13</td>\n",
       "      <td>Yes</td>\n",
       "      <td>No</td>\n",
       "      <td>Fiber optic</td>\n",
       "      <td>...</td>\n",
       "      <td>Yes</td>\n",
       "      <td>Yes</td>\n",
       "      <td>No</td>\n",
       "      <td>Yes</td>\n",
       "      <td>Yes</td>\n",
       "      <td>Month-to-month</td>\n",
       "      <td>Yes</td>\n",
       "      <td>Electronic check</td>\n",
       "      <td>98.0</td>\n",
       "      <td>1237.85</td>\n",
       "    </tr>\n",
       "    <tr>\n",
       "      <th>4</th>\n",
       "      <td>0013-EXCHZ</td>\n",
       "      <td>Yes</td>\n",
       "      <td>Female</td>\n",
       "      <td>1</td>\n",
       "      <td>Yes</td>\n",
       "      <td>No</td>\n",
       "      <td>3</td>\n",
       "      <td>Yes</td>\n",
       "      <td>No</td>\n",
       "      <td>Fiber optic</td>\n",
       "      <td>...</td>\n",
       "      <td>No</td>\n",
       "      <td>No</td>\n",
       "      <td>Yes</td>\n",
       "      <td>Yes</td>\n",
       "      <td>No</td>\n",
       "      <td>Month-to-month</td>\n",
       "      <td>Yes</td>\n",
       "      <td>Mailed check</td>\n",
       "      <td>83.9</td>\n",
       "      <td>267.4</td>\n",
       "    </tr>\n",
       "  </tbody>\n",
       "</table>\n",
       "<p>5 rows × 21 columns</p>\n",
       "</div>"
      ],
      "text/plain": [
       "   customerID Churn customer_gender  customer_SeniorCitizen customer_Partner  \\\n",
       "0  0002-ORFBO    No          Female                       0              Yes   \n",
       "1  0003-MKNFE    No            Male                       0               No   \n",
       "2  0004-TLHLJ   Yes            Male                       0               No   \n",
       "3  0011-IGKFF   Yes            Male                       1              Yes   \n",
       "4  0013-EXCHZ   Yes          Female                       1              Yes   \n",
       "\n",
       "  customer_Dependents  customer_tenure phone_PhoneService phone_MultipleLines  \\\n",
       "0                 Yes                9                Yes                  No   \n",
       "1                  No                9                Yes                 Yes   \n",
       "2                  No                4                Yes                  No   \n",
       "3                  No               13                Yes                  No   \n",
       "4                  No                3                Yes                  No   \n",
       "\n",
       "  internet_InternetService  ... internet_OnlineBackup  \\\n",
       "0                      DSL  ...                   Yes   \n",
       "1                      DSL  ...                    No   \n",
       "2              Fiber optic  ...                    No   \n",
       "3              Fiber optic  ...                   Yes   \n",
       "4              Fiber optic  ...                    No   \n",
       "\n",
       "  internet_DeviceProtection internet_TechSupport internet_StreamingTV  \\\n",
       "0                        No                  Yes                  Yes   \n",
       "1                        No                   No                   No   \n",
       "2                       Yes                   No                   No   \n",
       "3                       Yes                   No                  Yes   \n",
       "4                        No                  Yes                  Yes   \n",
       "\n",
       "  internet_StreamingMovies account_Contract account_PaperlessBilling  \\\n",
       "0                       No         One year                      Yes   \n",
       "1                      Yes   Month-to-month                       No   \n",
       "2                       No   Month-to-month                      Yes   \n",
       "3                      Yes   Month-to-month                      Yes   \n",
       "4                       No   Month-to-month                      Yes   \n",
       "\n",
       "  account_PaymentMethod account_Charges_Monthly  account_Charges_Total  \n",
       "0          Mailed check                    65.6                  593.3  \n",
       "1          Mailed check                    59.9                  542.4  \n",
       "2      Electronic check                    73.9                 280.85  \n",
       "3      Electronic check                    98.0                1237.85  \n",
       "4          Mailed check                    83.9                  267.4  \n",
       "\n",
       "[5 rows x 21 columns]"
      ]
     },
     "execution_count": 115,
     "metadata": {},
     "output_type": "execute_result"
    }
   ],
   "source": [
    "df_telco.head(5)"
   ]
  },
  {
   "cell_type": "code",
   "execution_count": 116,
   "id": "f82dd3db",
   "metadata": {},
   "outputs": [
    {
     "data": {
      "text/plain": [
       "Index(['customerID', 'Churn', 'customer_gender', 'customer_SeniorCitizen',\n",
       "       'customer_Partner', 'customer_Dependents', 'customer_tenure',\n",
       "       'phone_PhoneService', 'phone_MultipleLines', 'internet_InternetService',\n",
       "       'internet_OnlineSecurity', 'internet_OnlineBackup',\n",
       "       'internet_DeviceProtection', 'internet_TechSupport',\n",
       "       'internet_StreamingTV', 'internet_StreamingMovies', 'account_Contract',\n",
       "       'account_PaperlessBilling', 'account_PaymentMethod',\n",
       "       'account_Charges_Monthly', 'account_Charges_Total'],\n",
       "      dtype='object')"
      ]
     },
     "execution_count": 116,
     "metadata": {},
     "output_type": "execute_result"
    }
   ],
   "source": [
    "df_telco.columns"
   ]
  },
  {
   "cell_type": "markdown",
   "id": "51bff179",
   "metadata": {},
   "source": [
    "### Data kind definition"
   ]
  },
  {
   "cell_type": "code",
   "execution_count": 117,
   "id": "6ad6df9d",
   "metadata": {},
   "outputs": [
    {
     "data": {
      "text/plain": [
       "7267"
      ]
     },
     "execution_count": 117,
     "metadata": {},
     "output_type": "execute_result"
    }
   ],
   "source": [
    "df_telco['customerID'].value_counts().count()"
   ]
  },
  {
   "cell_type": "code",
   "execution_count": 118,
   "id": "876a489e",
   "metadata": {},
   "outputs": [
    {
     "data": {
      "text/html": [
       "<div>\n",
       "<style scoped>\n",
       "    .dataframe tbody tr th:only-of-type {\n",
       "        vertical-align: middle;\n",
       "    }\n",
       "\n",
       "    .dataframe tbody tr th {\n",
       "        vertical-align: top;\n",
       "    }\n",
       "\n",
       "    .dataframe thead th {\n",
       "        text-align: right;\n",
       "    }\n",
       "</style>\n",
       "<table border=\"1\" class=\"dataframe\">\n",
       "  <thead>\n",
       "    <tr style=\"text-align: right;\">\n",
       "      <th></th>\n",
       "      <th>customerID</th>\n",
       "      <th>Churn</th>\n",
       "      <th>customer_gender</th>\n",
       "      <th>customer_SeniorCitizen</th>\n",
       "      <th>customer_Partner</th>\n",
       "      <th>customer_Dependents</th>\n",
       "      <th>customer_tenure</th>\n",
       "      <th>phone_PhoneService</th>\n",
       "      <th>phone_MultipleLines</th>\n",
       "      <th>internet_InternetService</th>\n",
       "      <th>...</th>\n",
       "      <th>internet_OnlineBackup</th>\n",
       "      <th>internet_DeviceProtection</th>\n",
       "      <th>internet_TechSupport</th>\n",
       "      <th>internet_StreamingTV</th>\n",
       "      <th>internet_StreamingMovies</th>\n",
       "      <th>account_Contract</th>\n",
       "      <th>account_PaperlessBilling</th>\n",
       "      <th>account_PaymentMethod</th>\n",
       "      <th>account_Charges_Monthly</th>\n",
       "      <th>account_Charges_Total</th>\n",
       "    </tr>\n",
       "  </thead>\n",
       "  <tbody>\n",
       "    <tr>\n",
       "      <th>0</th>\n",
       "      <td>0002-ORFBO</td>\n",
       "      <td>No</td>\n",
       "      <td>Female</td>\n",
       "      <td>0</td>\n",
       "      <td>Yes</td>\n",
       "      <td>Yes</td>\n",
       "      <td>9</td>\n",
       "      <td>Yes</td>\n",
       "      <td>No</td>\n",
       "      <td>DSL</td>\n",
       "      <td>...</td>\n",
       "      <td>Yes</td>\n",
       "      <td>No</td>\n",
       "      <td>Yes</td>\n",
       "      <td>Yes</td>\n",
       "      <td>No</td>\n",
       "      <td>One year</td>\n",
       "      <td>Yes</td>\n",
       "      <td>Mailed check</td>\n",
       "      <td>65.6</td>\n",
       "      <td>593.3</td>\n",
       "    </tr>\n",
       "    <tr>\n",
       "      <th>1</th>\n",
       "      <td>0003-MKNFE</td>\n",
       "      <td>No</td>\n",
       "      <td>Male</td>\n",
       "      <td>0</td>\n",
       "      <td>No</td>\n",
       "      <td>No</td>\n",
       "      <td>9</td>\n",
       "      <td>Yes</td>\n",
       "      <td>Yes</td>\n",
       "      <td>DSL</td>\n",
       "      <td>...</td>\n",
       "      <td>No</td>\n",
       "      <td>No</td>\n",
       "      <td>No</td>\n",
       "      <td>No</td>\n",
       "      <td>Yes</td>\n",
       "      <td>Month-to-month</td>\n",
       "      <td>No</td>\n",
       "      <td>Mailed check</td>\n",
       "      <td>59.9</td>\n",
       "      <td>542.4</td>\n",
       "    </tr>\n",
       "    <tr>\n",
       "      <th>2</th>\n",
       "      <td>0004-TLHLJ</td>\n",
       "      <td>Yes</td>\n",
       "      <td>Male</td>\n",
       "      <td>0</td>\n",
       "      <td>No</td>\n",
       "      <td>No</td>\n",
       "      <td>4</td>\n",
       "      <td>Yes</td>\n",
       "      <td>No</td>\n",
       "      <td>Fiber optic</td>\n",
       "      <td>...</td>\n",
       "      <td>No</td>\n",
       "      <td>Yes</td>\n",
       "      <td>No</td>\n",
       "      <td>No</td>\n",
       "      <td>No</td>\n",
       "      <td>Month-to-month</td>\n",
       "      <td>Yes</td>\n",
       "      <td>Electronic check</td>\n",
       "      <td>73.9</td>\n",
       "      <td>280.85</td>\n",
       "    </tr>\n",
       "    <tr>\n",
       "      <th>3</th>\n",
       "      <td>0011-IGKFF</td>\n",
       "      <td>Yes</td>\n",
       "      <td>Male</td>\n",
       "      <td>1</td>\n",
       "      <td>Yes</td>\n",
       "      <td>No</td>\n",
       "      <td>13</td>\n",
       "      <td>Yes</td>\n",
       "      <td>No</td>\n",
       "      <td>Fiber optic</td>\n",
       "      <td>...</td>\n",
       "      <td>Yes</td>\n",
       "      <td>Yes</td>\n",
       "      <td>No</td>\n",
       "      <td>Yes</td>\n",
       "      <td>Yes</td>\n",
       "      <td>Month-to-month</td>\n",
       "      <td>Yes</td>\n",
       "      <td>Electronic check</td>\n",
       "      <td>98.0</td>\n",
       "      <td>1237.85</td>\n",
       "    </tr>\n",
       "    <tr>\n",
       "      <th>4</th>\n",
       "      <td>0013-EXCHZ</td>\n",
       "      <td>Yes</td>\n",
       "      <td>Female</td>\n",
       "      <td>1</td>\n",
       "      <td>Yes</td>\n",
       "      <td>No</td>\n",
       "      <td>3</td>\n",
       "      <td>Yes</td>\n",
       "      <td>No</td>\n",
       "      <td>Fiber optic</td>\n",
       "      <td>...</td>\n",
       "      <td>No</td>\n",
       "      <td>No</td>\n",
       "      <td>Yes</td>\n",
       "      <td>Yes</td>\n",
       "      <td>No</td>\n",
       "      <td>Month-to-month</td>\n",
       "      <td>Yes</td>\n",
       "      <td>Mailed check</td>\n",
       "      <td>83.9</td>\n",
       "      <td>267.4</td>\n",
       "    </tr>\n",
       "  </tbody>\n",
       "</table>\n",
       "<p>5 rows × 21 columns</p>\n",
       "</div>"
      ],
      "text/plain": [
       "   customerID Churn customer_gender  customer_SeniorCitizen customer_Partner  \\\n",
       "0  0002-ORFBO    No          Female                       0              Yes   \n",
       "1  0003-MKNFE    No            Male                       0               No   \n",
       "2  0004-TLHLJ   Yes            Male                       0               No   \n",
       "3  0011-IGKFF   Yes            Male                       1              Yes   \n",
       "4  0013-EXCHZ   Yes          Female                       1              Yes   \n",
       "\n",
       "  customer_Dependents  customer_tenure phone_PhoneService phone_MultipleLines  \\\n",
       "0                 Yes                9                Yes                  No   \n",
       "1                  No                9                Yes                 Yes   \n",
       "2                  No                4                Yes                  No   \n",
       "3                  No               13                Yes                  No   \n",
       "4                  No                3                Yes                  No   \n",
       "\n",
       "  internet_InternetService  ... internet_OnlineBackup  \\\n",
       "0                      DSL  ...                   Yes   \n",
       "1                      DSL  ...                    No   \n",
       "2              Fiber optic  ...                    No   \n",
       "3              Fiber optic  ...                   Yes   \n",
       "4              Fiber optic  ...                    No   \n",
       "\n",
       "  internet_DeviceProtection internet_TechSupport internet_StreamingTV  \\\n",
       "0                        No                  Yes                  Yes   \n",
       "1                        No                   No                   No   \n",
       "2                       Yes                   No                   No   \n",
       "3                       Yes                   No                  Yes   \n",
       "4                        No                  Yes                  Yes   \n",
       "\n",
       "  internet_StreamingMovies account_Contract account_PaperlessBilling  \\\n",
       "0                       No         One year                      Yes   \n",
       "1                      Yes   Month-to-month                       No   \n",
       "2                       No   Month-to-month                      Yes   \n",
       "3                      Yes   Month-to-month                      Yes   \n",
       "4                       No   Month-to-month                      Yes   \n",
       "\n",
       "  account_PaymentMethod account_Charges_Monthly  account_Charges_Total  \n",
       "0          Mailed check                    65.6                  593.3  \n",
       "1          Mailed check                    59.9                  542.4  \n",
       "2      Electronic check                    73.9                 280.85  \n",
       "3      Electronic check                    98.0                1237.85  \n",
       "4          Mailed check                    83.9                  267.4  \n",
       "\n",
       "[5 rows x 21 columns]"
      ]
     },
     "execution_count": 118,
     "metadata": {},
     "output_type": "execute_result"
    }
   ],
   "source": [
    "df_telco.head(5)"
   ]
  },
  {
   "cell_type": "code",
   "execution_count": 119,
   "id": "a80d1352",
   "metadata": {},
   "outputs": [
    {
     "name": "stdout",
     "output_type": "stream",
     "text": [
      "<class 'pandas.core.frame.DataFrame'>\n",
      "RangeIndex: 7267 entries, 0 to 7266\n",
      "Data columns (total 21 columns):\n",
      " #   Column                     Non-Null Count  Dtype  \n",
      "---  ------                     --------------  -----  \n",
      " 0   customerID                 7267 non-null   object \n",
      " 1   Churn                      7267 non-null   object \n",
      " 2   customer_gender            7267 non-null   object \n",
      " 3   customer_SeniorCitizen     7267 non-null   int64  \n",
      " 4   customer_Partner           7267 non-null   object \n",
      " 5   customer_Dependents        7267 non-null   object \n",
      " 6   customer_tenure            7267 non-null   int64  \n",
      " 7   phone_PhoneService         7267 non-null   object \n",
      " 8   phone_MultipleLines        7267 non-null   object \n",
      " 9   internet_InternetService   7267 non-null   object \n",
      " 10  internet_OnlineSecurity    7267 non-null   object \n",
      " 11  internet_OnlineBackup      7267 non-null   object \n",
      " 12  internet_DeviceProtection  7267 non-null   object \n",
      " 13  internet_TechSupport       7267 non-null   object \n",
      " 14  internet_StreamingTV       7267 non-null   object \n",
      " 15  internet_StreamingMovies   7267 non-null   object \n",
      " 16  account_Contract           7267 non-null   object \n",
      " 17  account_PaperlessBilling   7267 non-null   object \n",
      " 18  account_PaymentMethod      7267 non-null   object \n",
      " 19  account_Charges_Monthly    7267 non-null   float64\n",
      " 20  account_Charges_Total      7267 non-null   object \n",
      "dtypes: float64(1), int64(2), object(18)\n",
      "memory usage: 1.2+ MB\n"
     ]
    }
   ],
   "source": [
    "df_telco.info()\n",
    "#Inconsistences: \"customer_SeniorCitizen\" numeric\n",
    "#Inconsistences: \"account_Charges_Total\" object"
   ]
  },
  {
   "cell_type": "code",
   "execution_count": 120,
   "id": "36b2f1c0",
   "metadata": {},
   "outputs": [],
   "source": [
    "# Transform df_telco['customer_SeniorCitizen'] from numeric to object\n",
    "df_telco['customer_SeniorCitizen'] = df_telco['customer_SeniorCitizen'].replace([0], '< 65 years' ) \n",
    "df_telco['customer_SeniorCitizen'] = df_telco['customer_SeniorCitizen'].replace([1], '>= 65 years' ) "
   ]
  },
  {
   "cell_type": "code",
   "execution_count": 121,
   "id": "afee218f",
   "metadata": {},
   "outputs": [],
   "source": [
    "# Transform df_telco['account_Charges_Total'] from object to numeric\n",
    "df_telco['account_Charges_Total'] = pd.to_numeric(df_telco['account_Charges_Total'],errors = 'coerce')"
   ]
  },
  {
   "cell_type": "code",
   "execution_count": 122,
   "id": "f7a0f7f0",
   "metadata": {},
   "outputs": [
    {
     "name": "stdout",
     "output_type": "stream",
     "text": [
      "<class 'pandas.core.frame.DataFrame'>\n",
      "RangeIndex: 7267 entries, 0 to 7266\n",
      "Data columns (total 21 columns):\n",
      " #   Column                     Non-Null Count  Dtype  \n",
      "---  ------                     --------------  -----  \n",
      " 0   customerID                 7267 non-null   object \n",
      " 1   Churn                      7267 non-null   object \n",
      " 2   customer_gender            7267 non-null   object \n",
      " 3   customer_SeniorCitizen     7267 non-null   object \n",
      " 4   customer_Partner           7267 non-null   object \n",
      " 5   customer_Dependents        7267 non-null   object \n",
      " 6   customer_tenure            7267 non-null   int64  \n",
      " 7   phone_PhoneService         7267 non-null   object \n",
      " 8   phone_MultipleLines        7267 non-null   object \n",
      " 9   internet_InternetService   7267 non-null   object \n",
      " 10  internet_OnlineSecurity    7267 non-null   object \n",
      " 11  internet_OnlineBackup      7267 non-null   object \n",
      " 12  internet_DeviceProtection  7267 non-null   object \n",
      " 13  internet_TechSupport       7267 non-null   object \n",
      " 14  internet_StreamingTV       7267 non-null   object \n",
      " 15  internet_StreamingMovies   7267 non-null   object \n",
      " 16  account_Contract           7267 non-null   object \n",
      " 17  account_PaperlessBilling   7267 non-null   object \n",
      " 18  account_PaymentMethod      7267 non-null   object \n",
      " 19  account_Charges_Monthly    7267 non-null   float64\n",
      " 20  account_Charges_Total      7256 non-null   float64\n",
      "dtypes: float64(2), int64(1), object(18)\n",
      "memory usage: 1.2+ MB\n"
     ]
    }
   ],
   "source": [
    "df_telco.info()\n",
    "# account_Charges_Total null values"
   ]
  },
  {
   "cell_type": "code",
   "execution_count": 123,
   "id": "a31dec75",
   "metadata": {},
   "outputs": [
    {
     "data": {
      "text/plain": [
       "0.15136920324755745"
      ]
     },
     "execution_count": 123,
     "metadata": {},
     "output_type": "execute_result"
    }
   ],
   "source": [
    "df_telco['account_Charges_Total'].isnull().sum()*100/len(df_telco)\n",
    "#0.15% of NaN, so we can drop it"
   ]
  },
  {
   "cell_type": "code",
   "execution_count": 124,
   "id": "51829f2b",
   "metadata": {},
   "outputs": [],
   "source": [
    "#drop df_telco['account_Charges_Total'].isnull()\n",
    "df_telco.drop(df_telco[df_telco['account_Charges_Total'].isnull()].index, inplace = True)"
   ]
  },
  {
   "cell_type": "code",
   "execution_count": 125,
   "id": "77a3c858",
   "metadata": {},
   "outputs": [
    {
     "name": "stdout",
     "output_type": "stream",
     "text": [
      "DataFrame lenght: 7256\n",
      "\n",
      "Unique values of customerID : 7256\n",
      "['0002-ORFBO' '0003-MKNFE' '0004-TLHLJ' ... '9992-UJOEL' '9993-LHIEB'\n",
      " '9995-HOTOH']\n",
      "---\n",
      "Unique values of Churn : 3\n",
      "['No' 'Yes' '']\n",
      "---\n",
      "Unique values of customer_gender : 2\n",
      "['Female' 'Male']\n",
      "---\n",
      "Unique values of customer_SeniorCitizen : 2\n",
      "['< 65 years' '>= 65 years']\n",
      "---\n",
      "Unique values of customer_Partner : 2\n",
      "['Yes' 'No']\n",
      "---\n",
      "Unique values of customer_Dependents : 2\n",
      "['Yes' 'No']\n",
      "---\n",
      "Unique values of customer_tenure : 72\n",
      "[ 9  4 13  3 71 63  7 65 54 72  5 56 34  1 45 50 23 55 26 69 11 37 49 66\n",
      " 67 20 43 59 12 27  2 25 29 14 35 64 39 40  6 30 70 57 58 16 32 33 10 21\n",
      " 61 15 44 22 24 19 47 62 46 52  8 60 48 28 41 53 68 51 31 36 17 18 38 42]\n",
      "---\n",
      "Unique values of phone_PhoneService : 2\n",
      "['Yes' 'No']\n",
      "---\n",
      "Unique values of phone_MultipleLines : 3\n",
      "['No' 'Yes' 'No phone service']\n",
      "---\n",
      "Unique values of internet_InternetService : 3\n",
      "['DSL' 'Fiber optic' 'No']\n",
      "---\n",
      "Unique values of internet_OnlineSecurity : 3\n",
      "['No' 'Yes' 'No internet service']\n",
      "---\n",
      "Unique values of internet_OnlineBackup : 3\n",
      "['Yes' 'No' 'No internet service']\n",
      "---\n",
      "Unique values of internet_DeviceProtection : 3\n",
      "['No' 'Yes' 'No internet service']\n",
      "---\n",
      "Unique values of internet_TechSupport : 3\n",
      "['Yes' 'No' 'No internet service']\n",
      "---\n",
      "Unique values of internet_StreamingTV : 3\n",
      "['Yes' 'No' 'No internet service']\n",
      "---\n",
      "Unique values of internet_StreamingMovies : 3\n",
      "['No' 'Yes' 'No internet service']\n",
      "---\n",
      "Unique values of account_Contract : 3\n",
      "['One year' 'Month-to-month' 'Two year']\n",
      "---\n",
      "Unique values of account_PaperlessBilling : 2\n",
      "['Yes' 'No']\n",
      "---\n",
      "Unique values of account_PaymentMethod : 4\n",
      "['Mailed check' 'Electronic check' 'Credit card (automatic)'\n",
      " 'Bank transfer (automatic)']\n",
      "---\n",
      "Unique values of account_Charges_Monthly : 1584\n",
      "[65.6  59.9  73.9  ... 91.75 68.8  67.85]\n",
      "---\n",
      "Unique values of account_Charges_Total : 6530\n",
      "[ 593.3   542.4   280.85 ...  742.9  4627.65 3707.6 ]\n",
      "---\n"
     ]
    }
   ],
   "source": [
    "# Analysis of unique values\n",
    "print('DataFrame lenght:', len(df_telco))\n",
    "print('')\n",
    "for column in df_telco:\n",
    "    print('Unique values of', column, ':', df_telco[column].value_counts().count())\n",
    "    print(df_telco[column].unique())\n",
    "    print('---')\n",
    "    \n",
    "# There is an inconsistence with Chun == ''"
   ]
  },
  {
   "cell_type": "code",
   "execution_count": 126,
   "id": "76aa1698",
   "metadata": {},
   "outputs": [
    {
     "data": {
      "text/plain": [
       "3.08710033076075"
      ]
     },
     "execution_count": 126,
     "metadata": {},
     "output_type": "execute_result"
    }
   ],
   "source": [
    "len(df_telco.loc[df_telco['Churn'] == ''])*100/len(df_telco)\n",
    "# 3.08% of the data has churn undefined, so we can drop it"
   ]
  },
  {
   "cell_type": "code",
   "execution_count": 127,
   "id": "d28cb09a",
   "metadata": {},
   "outputs": [],
   "source": [
    "#drop churn undefined\n",
    "df_telco.drop(df_telco[df_telco['Churn'] == ''].index, inplace = True)"
   ]
  },
  {
   "cell_type": "code",
   "execution_count": 128,
   "id": "4df79d83",
   "metadata": {},
   "outputs": [],
   "source": [
    "# Replace Churn No, Yes by 0, 1 to use as target in a classification model\n",
    "df_telco['Churn'] = df_telco['Churn'].replace(['No'], 0)\n",
    "df_telco['Churn'] = df_telco['Churn'].replace(['Yes'], 1)"
   ]
  },
  {
   "cell_type": "code",
   "execution_count": 129,
   "id": "02991149",
   "metadata": {},
   "outputs": [
    {
     "name": "stdout",
     "output_type": "stream",
     "text": [
      "<class 'pandas.core.frame.DataFrame'>\n",
      "Int64Index: 7032 entries, 0 to 7266\n",
      "Data columns (total 21 columns):\n",
      " #   Column                     Non-Null Count  Dtype  \n",
      "---  ------                     --------------  -----  \n",
      " 0   customerID                 7032 non-null   object \n",
      " 1   Churn                      7032 non-null   int64  \n",
      " 2   customer_gender            7032 non-null   object \n",
      " 3   customer_SeniorCitizen     7032 non-null   object \n",
      " 4   customer_Partner           7032 non-null   object \n",
      " 5   customer_Dependents        7032 non-null   object \n",
      " 6   customer_tenure            7032 non-null   int64  \n",
      " 7   phone_PhoneService         7032 non-null   object \n",
      " 8   phone_MultipleLines        7032 non-null   object \n",
      " 9   internet_InternetService   7032 non-null   object \n",
      " 10  internet_OnlineSecurity    7032 non-null   object \n",
      " 11  internet_OnlineBackup      7032 non-null   object \n",
      " 12  internet_DeviceProtection  7032 non-null   object \n",
      " 13  internet_TechSupport       7032 non-null   object \n",
      " 14  internet_StreamingTV       7032 non-null   object \n",
      " 15  internet_StreamingMovies   7032 non-null   object \n",
      " 16  account_Contract           7032 non-null   object \n",
      " 17  account_PaperlessBilling   7032 non-null   object \n",
      " 18  account_PaymentMethod      7032 non-null   object \n",
      " 19  account_Charges_Monthly    7032 non-null   float64\n",
      " 20  account_Charges_Total      7032 non-null   float64\n",
      "dtypes: float64(2), int64(2), object(17)\n",
      "memory usage: 1.2+ MB\n"
     ]
    }
   ],
   "source": [
    "df_telco.info()"
   ]
  },
  {
   "cell_type": "markdown",
   "id": "61c94357",
   "metadata": {},
   "source": [
    "### Duplicated rows"
   ]
  },
  {
   "cell_type": "code",
   "execution_count": 130,
   "id": "f1a59e05",
   "metadata": {},
   "outputs": [
    {
     "name": "stdout",
     "output_type": "stream",
     "text": [
      "There isn't any duplicated row\n"
     ]
    }
   ],
   "source": [
    "if (df_telco.duplicated() == False).sum() == len(df_telco):\n",
    "    print(\"There isn't any duplicated row\")\n",
    "else:\n",
    "    print(\"There are duplicated rows\")"
   ]
  },
  {
   "cell_type": "markdown",
   "id": "c6d39ca7",
   "metadata": {},
   "source": [
    "### Duplicated columns"
   ]
  },
  {
   "cell_type": "code",
   "execution_count": 131,
   "id": "4ce7d805",
   "metadata": {},
   "outputs": [
    {
     "name": "stdout",
     "output_type": "stream",
     "text": [
      "There isn't any duplicated column\n"
     ]
    }
   ],
   "source": [
    "if (df_telco.T.duplicated() == False).sum() == len(df_telco.T):\n",
    "    print(\"There isn't any duplicated column\")\n",
    "else:\n",
    "    print(\"There are duplicated columns\")"
   ]
  },
  {
   "cell_type": "markdown",
   "id": "bb59ff7b",
   "metadata": {},
   "source": [
    "### Constant columns"
   ]
  },
  {
   "cell_type": "code",
   "execution_count": 132,
   "id": "5f6bb60e",
   "metadata": {},
   "outputs": [
    {
     "data": {
      "text/html": [
       "<div>\n",
       "<style scoped>\n",
       "    .dataframe tbody tr th:only-of-type {\n",
       "        vertical-align: middle;\n",
       "    }\n",
       "\n",
       "    .dataframe tbody tr th {\n",
       "        vertical-align: top;\n",
       "    }\n",
       "\n",
       "    .dataframe thead th {\n",
       "        text-align: right;\n",
       "    }\n",
       "</style>\n",
       "<table border=\"1\" class=\"dataframe\">\n",
       "  <thead>\n",
       "    <tr style=\"text-align: right;\">\n",
       "      <th></th>\n",
       "      <th>count</th>\n",
       "      <th>mean</th>\n",
       "      <th>std</th>\n",
       "      <th>min</th>\n",
       "      <th>25%</th>\n",
       "      <th>50%</th>\n",
       "      <th>75%</th>\n",
       "      <th>max</th>\n",
       "    </tr>\n",
       "  </thead>\n",
       "  <tbody>\n",
       "    <tr>\n",
       "      <th>Churn</th>\n",
       "      <td>7032.0</td>\n",
       "      <td>0.265785</td>\n",
       "      <td>0.441782</td>\n",
       "      <td>0.00</td>\n",
       "      <td>0.0000</td>\n",
       "      <td>0.000</td>\n",
       "      <td>1.0000</td>\n",
       "      <td>1.00</td>\n",
       "    </tr>\n",
       "    <tr>\n",
       "      <th>customer_tenure</th>\n",
       "      <td>7032.0</td>\n",
       "      <td>32.421786</td>\n",
       "      <td>24.545260</td>\n",
       "      <td>1.00</td>\n",
       "      <td>9.0000</td>\n",
       "      <td>29.000</td>\n",
       "      <td>55.0000</td>\n",
       "      <td>72.00</td>\n",
       "    </tr>\n",
       "    <tr>\n",
       "      <th>account_Charges_Monthly</th>\n",
       "      <td>7032.0</td>\n",
       "      <td>64.798208</td>\n",
       "      <td>30.085974</td>\n",
       "      <td>18.25</td>\n",
       "      <td>35.5875</td>\n",
       "      <td>70.350</td>\n",
       "      <td>89.8625</td>\n",
       "      <td>118.75</td>\n",
       "    </tr>\n",
       "    <tr>\n",
       "      <th>account_Charges_Total</th>\n",
       "      <td>7032.0</td>\n",
       "      <td>2283.300441</td>\n",
       "      <td>2266.771362</td>\n",
       "      <td>18.80</td>\n",
       "      <td>401.4500</td>\n",
       "      <td>1397.475</td>\n",
       "      <td>3794.7375</td>\n",
       "      <td>8684.80</td>\n",
       "    </tr>\n",
       "  </tbody>\n",
       "</table>\n",
       "</div>"
      ],
      "text/plain": [
       "                          count         mean          std    min       25%  \\\n",
       "Churn                    7032.0     0.265785     0.441782   0.00    0.0000   \n",
       "customer_tenure          7032.0    32.421786    24.545260   1.00    9.0000   \n",
       "account_Charges_Monthly  7032.0    64.798208    30.085974  18.25   35.5875   \n",
       "account_Charges_Total    7032.0  2283.300441  2266.771362  18.80  401.4500   \n",
       "\n",
       "                              50%        75%      max  \n",
       "Churn                       0.000     1.0000     1.00  \n",
       "customer_tenure            29.000    55.0000    72.00  \n",
       "account_Charges_Monthly    70.350    89.8625   118.75  \n",
       "account_Charges_Total    1397.475  3794.7375  8684.80  "
      ]
     },
     "execution_count": 132,
     "metadata": {},
     "output_type": "execute_result"
    }
   ],
   "source": [
    "df_telco.describe().T\n",
    "# There isn't any constant column"
   ]
  },
  {
   "cell_type": "markdown",
   "id": "099a1179",
   "metadata": {},
   "source": [
    "### Feature analysis"
   ]
  },
  {
   "cell_type": "code",
   "execution_count": 133,
   "id": "3c4ad14f",
   "metadata": {},
   "outputs": [
    {
     "name": "stderr",
     "output_type": "stream",
     "text": [
      "C:\\Users\\stesl\\miniconda3\\lib\\site-packages\\pandas\\plotting\\_matplotlib\\tools.py:331: MatplotlibDeprecationWarning: \n",
      "The is_first_col function was deprecated in Matplotlib 3.4 and will be removed two minor releases later. Use ax.get_subplotspec().is_first_col() instead.\n",
      "  if ax.is_first_col():\n"
     ]
    },
    {
     "data": {
      "text/plain": [
       "array([[<AxesSubplot:title={'center':'Churn'}>,\n",
       "        <AxesSubplot:title={'center':'customer_tenure'}>],\n",
       "       [<AxesSubplot:title={'center':'account_Charges_Monthly'}>,\n",
       "        <AxesSubplot:title={'center':'account_Charges_Total'}>]],\n",
       "      dtype=object)"
      ]
     },
     "execution_count": 133,
     "metadata": {},
     "output_type": "execute_result"
    },
    {
     "data": {
      "image/png": "[encoded data removed]",
      "text/plain": [
       "<Figure size 1080x1080 with 4 Axes>"
      ]
     },
     "metadata": {
      "needs_background": "light"
     },
     "output_type": "display_data"
    }
   ],
   "source": [
    "# Histogram for numeric features\n",
    "df_telco.hist(figsize=(15,15))"
   ]
  },
  {
   "cell_type": "code",
   "execution_count": 134,
   "id": "d2401be3",
   "metadata": {},
   "outputs": [],
   "source": [
    "# Categorical features\n",
    "list_cat = ['customer_gender', 'customer_SeniorCitizen',\n",
    "       'customer_Partner', 'customer_Dependents',\n",
    "       'phone_PhoneService', 'phone_MultipleLines', 'internet_InternetService',\n",
    "       'internet_OnlineSecurity', 'internet_OnlineBackup',\n",
    "       'internet_DeviceProtection', 'internet_TechSupport',\n",
    "       'internet_StreamingTV', 'internet_StreamingMovies', 'account_Contract',\n",
    "       'account_PaperlessBilling', 'account_PaymentMethod']"
   ]
  },
  {
   "cell_type": "code",
   "execution_count": 135,
   "id": "2421c186",
   "metadata": {},
   "outputs": [
    {
     "name": "stdout",
     "output_type": "stream",
     "text": [
      "customer_gender\n",
      "\n",
      "Male      0.504693\n",
      "Female    0.495307\n",
      "Name: customer_gender, dtype: float64\n",
      "customer_SeniorCitizen\n",
      "\n",
      "< 65 years     0.8376\n",
      ">= 65 years    0.1624\n",
      "Name: customer_SeniorCitizen, dtype: float64\n",
      "customer_Partner\n",
      "\n",
      "No     0.517491\n",
      "Yes    0.482509\n",
      "Name: customer_Partner, dtype: float64\n",
      "customer_Dependents\n",
      "\n",
      "No     0.701507\n",
      "Yes    0.298493\n",
      "Name: customer_Dependents, dtype: float64\n",
      "phone_PhoneService\n",
      "\n",
      "Yes    0.903299\n",
      "No     0.096701\n",
      "Name: phone_PhoneService, dtype: float64\n",
      "phone_MultipleLines\n",
      "\n",
      "No                  0.481371\n",
      "Yes                 0.421928\n",
      "No phone service    0.096701\n",
      "Name: phone_MultipleLines, dtype: float64\n",
      "internet_InternetService\n",
      "\n",
      "Fiber optic    0.440273\n",
      "DSL            0.343572\n",
      "No             0.216155\n",
      "Name: internet_InternetService, dtype: float64\n",
      "internet_OnlineSecurity\n",
      "\n",
      "No                     0.497298\n",
      "Yes                    0.286547\n",
      "No internet service    0.216155\n",
      "Name: internet_OnlineSecurity, dtype: float64\n",
      "internet_OnlineBackup\n",
      "\n",
      "No                     0.438993\n",
      "Yes                    0.344852\n",
      "No internet service    0.216155\n",
      "Name: internet_OnlineBackup, dtype: float64\n",
      "internet_DeviceProtection\n",
      "\n",
      "No                     0.439989\n",
      "Yes                    0.343857\n",
      "No internet service    0.216155\n",
      "Name: internet_DeviceProtection, dtype: float64\n",
      "internet_TechSupport\n",
      "\n",
      "No                     0.493743\n",
      "Yes                    0.290102\n",
      "No internet service    0.216155\n",
      "Name: internet_TechSupport, dtype: float64\n",
      "internet_StreamingTV\n",
      "\n",
      "No                     0.399460\n",
      "Yes                    0.384386\n",
      "No internet service    0.216155\n",
      "Name: internet_StreamingTV, dtype: float64\n",
      "internet_StreamingMovies\n",
      "\n",
      "No                     0.395478\n",
      "Yes                    0.388367\n",
      "No internet service    0.216155\n",
      "Name: internet_StreamingMovies, dtype: float64\n",
      "account_Contract\n",
      "\n",
      "Month-to-month    0.551052\n",
      "Two year          0.239619\n",
      "One year          0.209329\n",
      "Name: account_Contract, dtype: float64\n",
      "account_PaperlessBilling\n",
      "\n",
      "Yes    0.592719\n",
      "No     0.407281\n",
      "Name: account_PaperlessBilling, dtype: float64\n",
      "account_PaymentMethod\n",
      "\n",
      "Electronic check             0.336320\n",
      "Mailed check                 0.228100\n",
      "Bank transfer (automatic)    0.219283\n",
      "Credit card (automatic)      0.216297\n",
      "Name: account_PaymentMethod, dtype: float64\n"
     ]
    }
   ],
   "source": [
    "#analysing categorical features\n",
    "for column in list_cat:\n",
    "  print(column)\n",
    "  print()\n",
    "  print(df_telco[column].value_counts(normalize = True))"
   ]
  },
  {
   "cell_type": "code",
   "execution_count": 136,
   "id": "f097e224",
   "metadata": {},
   "outputs": [
    {
     "name": "stdout",
     "output_type": "stream",
     "text": [
      "customer_gender\n"
     ]
    },
    {
     "data": {
      "image/png": "[encoded data removed]",
      "text/plain": [
       "<Figure size 432x288 with 1 Axes>"
      ]
     },
     "metadata": {
      "needs_background": "light"
     },
     "output_type": "display_data"
    },
    {
     "name": "stdout",
     "output_type": "stream",
     "text": [
      "customer_SeniorCitizen\n"
     ]
    },
    {
     "data": {
      "image/png": "[encoded data removed]",
      "text/plain": [
       "<Figure size 432x288 with 1 Axes>"
      ]
     },
     "metadata": {
      "needs_background": "light"
     },
     "output_type": "display_data"
    },
    {
     "name": "stdout",
     "output_type": "stream",
     "text": [
      "customer_Partner\n"
     ]
    },
    {
     "data": {
      "image/png": "[encoded data removed]",
      "text/plain": [
       "<Figure size 432x288 with 1 Axes>"
      ]
     },
     "metadata": {
      "needs_background": "light"
     },
     "output_type": "display_data"
    },
    {
     "name": "stdout",
     "output_type": "stream",
     "text": [
      "customer_Dependents\n"
     ]
    },
    {
     "data": {
      "image/png": "[encoded data removed]",
      "text/plain": [
       "<Figure size 432x288 with 1 Axes>"
      ]
     },
     "metadata": {
      "needs_background": "light"
     },
     "output_type": "display_data"
    },
    {
     "name": "stdout",
     "output_type": "stream",
     "text": [
      "phone_PhoneService\n"
     ]
    },
    {
     "data": {
      "image/png": "[encoded data removed]",
      "text/plain": [
       "<Figure size 432x288 with 1 Axes>"
      ]
     },
     "metadata": {
      "needs_background": "light"
     },
     "output_type": "display_data"
    },
    {
     "name": "stdout",
     "output_type": "stream",
     "text": [
      "phone_MultipleLines\n"
     ]
    },
    {
     "data": {
      "image/png": "[encoded data removed]",
      "text/plain": [
       "<Figure size 432x288 with 1 Axes>"
      ]
     },
     "metadata": {
      "needs_background": "light"
     },
     "output_type": "display_data"
    },
    {
     "name": "stdout",
     "output_type": "stream",
     "text": [
      "internet_InternetService\n"
     ]
    },
    {
     "data": {
      "image/png": "[encoded data removed]",
      "text/plain": [
       "<Figure size 432x288 with 1 Axes>"
      ]
     },
     "metadata": {
      "needs_background": "light"
     },
     "output_type": "display_data"
    },
    {
     "name": "stdout",
     "output_type": "stream",
     "text": [
      "internet_OnlineSecurity\n"
     ]
    },
    {
     "data": {
      "image/png": "[encoded data removed]",
      "text/plain": [
       "<Figure size 432x288 with 1 Axes>"
      ]
     },
     "metadata": {
      "needs_background": "light"
     },
     "output_type": "display_data"
    },
    {
     "name": "stdout",
     "output_type": "stream",
     "text": [
      "internet_OnlineBackup\n"
     ]
    },
    {
     "data": {
      "image/png": "[encoded data removed]",
      "text/plain": [
       "<Figure size 432x288 with 1 Axes>"
      ]
     },
     "metadata": {
      "needs_background": "light"
     },
     "output_type": "display_data"
    },
    {
     "name": "stdout",
     "output_type": "stream",
     "text": [
      "internet_DeviceProtection\n"
     ]
    },
    {
     "data": {
      "image/png": "[encoded data removed]",
      "text/plain": [
       "<Figure size 432x288 with 1 Axes>"
      ]
     },
     "metadata": {
      "needs_background": "light"
     },
     "output_type": "display_data"
    },
    {
     "name": "stdout",
     "output_type": "stream",
     "text": [
      "internet_TechSupport\n"
     ]
    },
    {
     "data": {
      "image/png": "[encoded data removed]",
      "text/plain": [
       "<Figure size 432x288 with 1 Axes>"
      ]
     },
     "metadata": {
      "needs_background": "light"
     },
     "output_type": "display_data"
    },
    {
     "name": "stdout",
     "output_type": "stream",
     "text": [
      "internet_StreamingTV\n"
     ]
    },
    {
     "data": {
      "image/png": "[encoded data removed]",
      "text/plain": [
       "<Figure size 432x288 with 1 Axes>"
      ]
     },
     "metadata": {
      "needs_background": "light"
     },
     "output_type": "display_data"
    },
    {
     "name": "stdout",
     "output_type": "stream",
     "text": [
      "internet_StreamingMovies\n"
     ]
    },
    {
     "data": {
      "image/png": "[encoded data removed]",
      "text/plain": [
       "<Figure size 432x288 with 1 Axes>"
      ]
     },
     "metadata": {
      "needs_background": "light"
     },
     "output_type": "display_data"
    },
    {
     "name": "stdout",
     "output_type": "stream",
     "text": [
      "account_Contract\n"
     ]
    },
    {
     "data": {
      "image/png": "[encoded data removed]",
      "text/plain": [
       "<Figure size 432x288 with 1 Axes>"
      ]
     },
     "metadata": {
      "needs_background": "light"
     },
     "output_type": "display_data"
    },
    {
     "name": "stdout",
     "output_type": "stream",
     "text": [
      "account_PaperlessBilling\n"
     ]
    },
    {
     "data": {
      "image/png": "[encoded data removed]",
      "text/plain": [
       "<Figure size 432x288 with 1 Axes>"
      ]
     },
     "metadata": {
      "needs_background": "light"
     },
     "output_type": "display_data"
    },
    {
     "name": "stdout",
     "output_type": "stream",
     "text": [
      "account_PaymentMethod\n"
     ]
    },
    {
     "data": {
      "image/png": "[encoded data removed]",
      "text/plain": [
       "<Figure size 432x288 with 1 Axes>"
      ]
     },
     "metadata": {
      "needs_background": "light"
     },
     "output_type": "display_data"
    }
   ],
   "source": [
    "%matplotlib inline \n",
    "# Histogram for categorical features\n",
    "for item in list_cat:\n",
    "  print(item)\n",
    "  plt.hist(df_telco[item])\n",
    "  plt.show()"
   ]
  },
  {
   "cell_type": "code",
   "execution_count": 137,
   "id": "4199c244",
   "metadata": {},
   "outputs": [],
   "source": [
    "list_num = ['customer_tenure', 'account_Charges_Monthly', 'account_Charges_Total']"
   ]
  },
  {
   "cell_type": "code",
   "execution_count": 138,
   "id": "321c760e",
   "metadata": {},
   "outputs": [
    {
     "data": {
      "image/png": "[encoded data removed]",
      "text/plain": [
       "<Figure size 432x288 with 1 Axes>"
      ]
     },
     "metadata": {
      "needs_background": "light"
     },
     "output_type": "display_data"
    },
    {
     "data": {
      "image/png": "[encoded data removed]",
      "text/plain": [
       "<Figure size 432x288 with 1 Axes>"
      ]
     },
     "metadata": {
      "needs_background": "light"
     },
     "output_type": "display_data"
    },
    {
     "data": {
      "image/png": "[encoded data removed]",
      "text/plain": [
       "<Figure size 432x288 with 1 Axes>"
      ]
     },
     "metadata": {
      "needs_background": "light"
     },
     "output_type": "display_data"
    }
   ],
   "source": [
    "for feature in list_num:\n",
    "    sns.boxplot(x = df_telco[feature])\n",
    "    plt.show()\n",
    "#seems that there are outliers in account_Charges_Total"
   ]
  },
  {
   "cell_type": "code",
   "execution_count": 139,
   "id": "3a6bdf18",
   "metadata": {},
   "outputs": [
    {
     "name": "stdout",
     "output_type": "stream",
     "text": [
      "Q1 401.4\n",
      "Q3 3794.975\n",
      "IQR 3393.575\n"
     ]
    }
   ],
   "source": [
    "# Outlier analysis of account_Charges_Total\n",
    "\n",
    "# First quartile (Q1)\n",
    "Q1 = np.percentile(df_telco['account_Charges_Total'], 25, interpolation = 'midpoint')\n",
    "print('Q1',Q1)\n",
    "# Third quartile (Q3)\n",
    "Q3 = np.percentile(df_telco['account_Charges_Total'], 75, interpolation = 'midpoint')\n",
    "print('Q3',Q3)\n",
    "IQR = Q3 - Q1\n",
    "print('IQR',IQR)"
   ]
  },
  {
   "cell_type": "code",
   "execution_count": 140,
   "id": "1825e0f6",
   "metadata": {},
   "outputs": [
    {
     "name": "stdout",
     "output_type": "stream",
     "text": [
      "low_limit:  -4688.9625\n",
      "up_limit: 8885.3375\n"
     ]
    }
   ],
   "source": [
    "low_lim = Q1 - 1.5 * IQR\n",
    "up_lim = Q3 + 1.5 * IQR\n",
    "print('low_limit: ', low_lim)\n",
    "print('up_limit:', up_lim)"
   ]
  },
  {
   "cell_type": "code",
   "execution_count": 141,
   "id": "36c74254",
   "metadata": {},
   "outputs": [
    {
     "data": {
      "text/html": [
       "<div>\n",
       "<style scoped>\n",
       "    .dataframe tbody tr th:only-of-type {\n",
       "        vertical-align: middle;\n",
       "    }\n",
       "\n",
       "    .dataframe tbody tr th {\n",
       "        vertical-align: top;\n",
       "    }\n",
       "\n",
       "    .dataframe thead th {\n",
       "        text-align: right;\n",
       "    }\n",
       "</style>\n",
       "<table border=\"1\" class=\"dataframe\">\n",
       "  <thead>\n",
       "    <tr style=\"text-align: right;\">\n",
       "      <th></th>\n",
       "      <th>customerID</th>\n",
       "      <th>Churn</th>\n",
       "      <th>customer_gender</th>\n",
       "      <th>customer_SeniorCitizen</th>\n",
       "      <th>customer_Partner</th>\n",
       "      <th>customer_Dependents</th>\n",
       "      <th>customer_tenure</th>\n",
       "      <th>phone_PhoneService</th>\n",
       "      <th>phone_MultipleLines</th>\n",
       "      <th>internet_InternetService</th>\n",
       "      <th>...</th>\n",
       "      <th>internet_OnlineBackup</th>\n",
       "      <th>internet_DeviceProtection</th>\n",
       "      <th>internet_TechSupport</th>\n",
       "      <th>internet_StreamingTV</th>\n",
       "      <th>internet_StreamingMovies</th>\n",
       "      <th>account_Contract</th>\n",
       "      <th>account_PaperlessBilling</th>\n",
       "      <th>account_PaymentMethod</th>\n",
       "      <th>account_Charges_Monthly</th>\n",
       "      <th>account_Charges_Total</th>\n",
       "    </tr>\n",
       "  </thead>\n",
       "  <tbody>\n",
       "  </tbody>\n",
       "</table>\n",
       "<p>0 rows × 21 columns</p>\n",
       "</div>"
      ],
      "text/plain": [
       "Empty DataFrame\n",
       "Columns: [customerID, Churn, customer_gender, customer_SeniorCitizen, customer_Partner, customer_Dependents, customer_tenure, phone_PhoneService, phone_MultipleLines, internet_InternetService, internet_OnlineSecurity, internet_OnlineBackup, internet_DeviceProtection, internet_TechSupport, internet_StreamingTV, internet_StreamingMovies, account_Contract, account_PaperlessBilling, account_PaymentMethod, account_Charges_Monthly, account_Charges_Total]\n",
       "Index: []\n",
       "\n",
       "[0 rows x 21 columns]"
      ]
     },
     "execution_count": 141,
     "metadata": {},
     "output_type": "execute_result"
    }
   ],
   "source": [
    "df_telco.loc[df_telco['account_Charges_Total'] < low_lim]"
   ]
  },
  {
   "cell_type": "code",
   "execution_count": 142,
   "id": "536d697a",
   "metadata": {},
   "outputs": [
    {
     "data": {
      "text/html": [
       "<div>\n",
       "<style scoped>\n",
       "    .dataframe tbody tr th:only-of-type {\n",
       "        vertical-align: middle;\n",
       "    }\n",
       "\n",
       "    .dataframe tbody tr th {\n",
       "        vertical-align: top;\n",
       "    }\n",
       "\n",
       "    .dataframe thead th {\n",
       "        text-align: right;\n",
       "    }\n",
       "</style>\n",
       "<table border=\"1\" class=\"dataframe\">\n",
       "  <thead>\n",
       "    <tr style=\"text-align: right;\">\n",
       "      <th></th>\n",
       "      <th>customerID</th>\n",
       "      <th>Churn</th>\n",
       "      <th>customer_gender</th>\n",
       "      <th>customer_SeniorCitizen</th>\n",
       "      <th>customer_Partner</th>\n",
       "      <th>customer_Dependents</th>\n",
       "      <th>customer_tenure</th>\n",
       "      <th>phone_PhoneService</th>\n",
       "      <th>phone_MultipleLines</th>\n",
       "      <th>internet_InternetService</th>\n",
       "      <th>...</th>\n",
       "      <th>internet_OnlineBackup</th>\n",
       "      <th>internet_DeviceProtection</th>\n",
       "      <th>internet_TechSupport</th>\n",
       "      <th>internet_StreamingTV</th>\n",
       "      <th>internet_StreamingMovies</th>\n",
       "      <th>account_Contract</th>\n",
       "      <th>account_PaperlessBilling</th>\n",
       "      <th>account_PaymentMethod</th>\n",
       "      <th>account_Charges_Monthly</th>\n",
       "      <th>account_Charges_Total</th>\n",
       "    </tr>\n",
       "  </thead>\n",
       "  <tbody>\n",
       "  </tbody>\n",
       "</table>\n",
       "<p>0 rows × 21 columns</p>\n",
       "</div>"
      ],
      "text/plain": [
       "Empty DataFrame\n",
       "Columns: [customerID, Churn, customer_gender, customer_SeniorCitizen, customer_Partner, customer_Dependents, customer_tenure, phone_PhoneService, phone_MultipleLines, internet_InternetService, internet_OnlineSecurity, internet_OnlineBackup, internet_DeviceProtection, internet_TechSupport, internet_StreamingTV, internet_StreamingMovies, account_Contract, account_PaperlessBilling, account_PaymentMethod, account_Charges_Monthly, account_Charges_Total]\n",
       "Index: []\n",
       "\n",
       "[0 rows x 21 columns]"
      ]
     },
     "execution_count": 142,
     "metadata": {},
     "output_type": "execute_result"
    }
   ],
   "source": [
    "df_telco.loc[df_telco['account_Charges_Total'] > up_lim]\n",
    "# There aren't outliers in this feature"
   ]
  },
  {
   "cell_type": "code",
   "execution_count": 143,
   "id": "a8f80df4",
   "metadata": {},
   "outputs": [
    {
     "data": {
      "text/html": [
       "<div>\n",
       "<style scoped>\n",
       "    .dataframe tbody tr th:only-of-type {\n",
       "        vertical-align: middle;\n",
       "    }\n",
       "\n",
       "    .dataframe tbody tr th {\n",
       "        vertical-align: top;\n",
       "    }\n",
       "\n",
       "    .dataframe thead th {\n",
       "        text-align: right;\n",
       "    }\n",
       "</style>\n",
       "<table border=\"1\" class=\"dataframe\">\n",
       "  <thead>\n",
       "    <tr style=\"text-align: right;\">\n",
       "      <th></th>\n",
       "      <th>customerID</th>\n",
       "      <th>Churn</th>\n",
       "      <th>customer_gender</th>\n",
       "      <th>customer_SeniorCitizen</th>\n",
       "      <th>customer_Partner</th>\n",
       "      <th>customer_Dependents</th>\n",
       "      <th>customer_tenure</th>\n",
       "      <th>phone_PhoneService</th>\n",
       "      <th>phone_MultipleLines</th>\n",
       "      <th>internet_InternetService</th>\n",
       "      <th>...</th>\n",
       "      <th>internet_OnlineBackup</th>\n",
       "      <th>internet_DeviceProtection</th>\n",
       "      <th>internet_TechSupport</th>\n",
       "      <th>internet_StreamingTV</th>\n",
       "      <th>internet_StreamingMovies</th>\n",
       "      <th>account_Contract</th>\n",
       "      <th>account_PaperlessBilling</th>\n",
       "      <th>account_PaymentMethod</th>\n",
       "      <th>account_Charges_Monthly</th>\n",
       "      <th>account_Charges_Total</th>\n",
       "    </tr>\n",
       "  </thead>\n",
       "  <tbody>\n",
       "    <tr>\n",
       "      <th>0</th>\n",
       "      <td>0002-ORFBO</td>\n",
       "      <td>0</td>\n",
       "      <td>Female</td>\n",
       "      <td>&lt; 65 years</td>\n",
       "      <td>Yes</td>\n",
       "      <td>Yes</td>\n",
       "      <td>9</td>\n",
       "      <td>Yes</td>\n",
       "      <td>No</td>\n",
       "      <td>DSL</td>\n",
       "      <td>...</td>\n",
       "      <td>Yes</td>\n",
       "      <td>No</td>\n",
       "      <td>Yes</td>\n",
       "      <td>Yes</td>\n",
       "      <td>No</td>\n",
       "      <td>One year</td>\n",
       "      <td>Yes</td>\n",
       "      <td>Mailed check</td>\n",
       "      <td>65.6</td>\n",
       "      <td>593.30</td>\n",
       "    </tr>\n",
       "    <tr>\n",
       "      <th>1</th>\n",
       "      <td>0003-MKNFE</td>\n",
       "      <td>0</td>\n",
       "      <td>Male</td>\n",
       "      <td>&lt; 65 years</td>\n",
       "      <td>No</td>\n",
       "      <td>No</td>\n",
       "      <td>9</td>\n",
       "      <td>Yes</td>\n",
       "      <td>Yes</td>\n",
       "      <td>DSL</td>\n",
       "      <td>...</td>\n",
       "      <td>No</td>\n",
       "      <td>No</td>\n",
       "      <td>No</td>\n",
       "      <td>No</td>\n",
       "      <td>Yes</td>\n",
       "      <td>Month-to-month</td>\n",
       "      <td>No</td>\n",
       "      <td>Mailed check</td>\n",
       "      <td>59.9</td>\n",
       "      <td>542.40</td>\n",
       "    </tr>\n",
       "    <tr>\n",
       "      <th>2</th>\n",
       "      <td>0004-TLHLJ</td>\n",
       "      <td>1</td>\n",
       "      <td>Male</td>\n",
       "      <td>&lt; 65 years</td>\n",
       "      <td>No</td>\n",
       "      <td>No</td>\n",
       "      <td>4</td>\n",
       "      <td>Yes</td>\n",
       "      <td>No</td>\n",
       "      <td>Fiber optic</td>\n",
       "      <td>...</td>\n",
       "      <td>No</td>\n",
       "      <td>Yes</td>\n",
       "      <td>No</td>\n",
       "      <td>No</td>\n",
       "      <td>No</td>\n",
       "      <td>Month-to-month</td>\n",
       "      <td>Yes</td>\n",
       "      <td>Electronic check</td>\n",
       "      <td>73.9</td>\n",
       "      <td>280.85</td>\n",
       "    </tr>\n",
       "    <tr>\n",
       "      <th>3</th>\n",
       "      <td>0011-IGKFF</td>\n",
       "      <td>1</td>\n",
       "      <td>Male</td>\n",
       "      <td>&gt;= 65 years</td>\n",
       "      <td>Yes</td>\n",
       "      <td>No</td>\n",
       "      <td>13</td>\n",
       "      <td>Yes</td>\n",
       "      <td>No</td>\n",
       "      <td>Fiber optic</td>\n",
       "      <td>...</td>\n",
       "      <td>Yes</td>\n",
       "      <td>Yes</td>\n",
       "      <td>No</td>\n",
       "      <td>Yes</td>\n",
       "      <td>Yes</td>\n",
       "      <td>Month-to-month</td>\n",
       "      <td>Yes</td>\n",
       "      <td>Electronic check</td>\n",
       "      <td>98.0</td>\n",
       "      <td>1237.85</td>\n",
       "    </tr>\n",
       "    <tr>\n",
       "      <th>4</th>\n",
       "      <td>0013-EXCHZ</td>\n",
       "      <td>1</td>\n",
       "      <td>Female</td>\n",
       "      <td>&gt;= 65 years</td>\n",
       "      <td>Yes</td>\n",
       "      <td>No</td>\n",
       "      <td>3</td>\n",
       "      <td>Yes</td>\n",
       "      <td>No</td>\n",
       "      <td>Fiber optic</td>\n",
       "      <td>...</td>\n",
       "      <td>No</td>\n",
       "      <td>No</td>\n",
       "      <td>Yes</td>\n",
       "      <td>Yes</td>\n",
       "      <td>No</td>\n",
       "      <td>Month-to-month</td>\n",
       "      <td>Yes</td>\n",
       "      <td>Mailed check</td>\n",
       "      <td>83.9</td>\n",
       "      <td>267.40</td>\n",
       "    </tr>\n",
       "  </tbody>\n",
       "</table>\n",
       "<p>5 rows × 21 columns</p>\n",
       "</div>"
      ],
      "text/plain": [
       "   customerID  Churn customer_gender customer_SeniorCitizen customer_Partner  \\\n",
       "0  0002-ORFBO      0          Female             < 65 years              Yes   \n",
       "1  0003-MKNFE      0            Male             < 65 years               No   \n",
       "2  0004-TLHLJ      1            Male             < 65 years               No   \n",
       "3  0011-IGKFF      1            Male            >= 65 years              Yes   \n",
       "4  0013-EXCHZ      1          Female            >= 65 years              Yes   \n",
       "\n",
       "  customer_Dependents  customer_tenure phone_PhoneService phone_MultipleLines  \\\n",
       "0                 Yes                9                Yes                  No   \n",
       "1                  No                9                Yes                 Yes   \n",
       "2                  No                4                Yes                  No   \n",
       "3                  No               13                Yes                  No   \n",
       "4                  No                3                Yes                  No   \n",
       "\n",
       "  internet_InternetService  ... internet_OnlineBackup  \\\n",
       "0                      DSL  ...                   Yes   \n",
       "1                      DSL  ...                    No   \n",
       "2              Fiber optic  ...                    No   \n",
       "3              Fiber optic  ...                   Yes   \n",
       "4              Fiber optic  ...                    No   \n",
       "\n",
       "  internet_DeviceProtection internet_TechSupport internet_StreamingTV  \\\n",
       "0                        No                  Yes                  Yes   \n",
       "1                        No                   No                   No   \n",
       "2                       Yes                   No                   No   \n",
       "3                       Yes                   No                  Yes   \n",
       "4                        No                  Yes                  Yes   \n",
       "\n",
       "  internet_StreamingMovies account_Contract account_PaperlessBilling  \\\n",
       "0                       No         One year                      Yes   \n",
       "1                      Yes   Month-to-month                       No   \n",
       "2                       No   Month-to-month                      Yes   \n",
       "3                      Yes   Month-to-month                      Yes   \n",
       "4                       No   Month-to-month                      Yes   \n",
       "\n",
       "  account_PaymentMethod account_Charges_Monthly  account_Charges_Total  \n",
       "0          Mailed check                    65.6                 593.30  \n",
       "1          Mailed check                    59.9                 542.40  \n",
       "2      Electronic check                    73.9                 280.85  \n",
       "3      Electronic check                    98.0                1237.85  \n",
       "4          Mailed check                    83.9                 267.40  \n",
       "\n",
       "[5 rows x 21 columns]"
      ]
     },
     "execution_count": 143,
     "metadata": {},
     "output_type": "execute_result"
    }
   ],
   "source": [
    "df_telco.head(5)"
   ]
  },
  {
   "cell_type": "code",
   "execution_count": 144,
   "id": "6b7389bf",
   "metadata": {},
   "outputs": [],
   "source": [
    "df_telco['account_Charges_Daily'] = round(df_telco['account_Charges_Monthly']/30 , 2)"
   ]
  },
  {
   "cell_type": "code",
   "execution_count": 145,
   "id": "c673d9a7",
   "metadata": {},
   "outputs": [
    {
     "name": "stdout",
     "output_type": "stream",
     "text": [
      "<class 'pandas.core.frame.DataFrame'>\n",
      "Int64Index: 7032 entries, 0 to 7266\n",
      "Data columns (total 22 columns):\n",
      " #   Column                     Non-Null Count  Dtype  \n",
      "---  ------                     --------------  -----  \n",
      " 0   customerID                 7032 non-null   object \n",
      " 1   Churn                      7032 non-null   int64  \n",
      " 2   customer_gender            7032 non-null   object \n",
      " 3   customer_SeniorCitizen     7032 non-null   object \n",
      " 4   customer_Partner           7032 non-null   object \n",
      " 5   customer_Dependents        7032 non-null   object \n",
      " 6   customer_tenure            7032 non-null   int64  \n",
      " 7   phone_PhoneService         7032 non-null   object \n",
      " 8   phone_MultipleLines        7032 non-null   object \n",
      " 9   internet_InternetService   7032 non-null   object \n",
      " 10  internet_OnlineSecurity    7032 non-null   object \n",
      " 11  internet_OnlineBackup      7032 non-null   object \n",
      " 12  internet_DeviceProtection  7032 non-null   object \n",
      " 13  internet_TechSupport       7032 non-null   object \n",
      " 14  internet_StreamingTV       7032 non-null   object \n",
      " 15  internet_StreamingMovies   7032 non-null   object \n",
      " 16  account_Contract           7032 non-null   object \n",
      " 17  account_PaperlessBilling   7032 non-null   object \n",
      " 18  account_PaymentMethod      7032 non-null   object \n",
      " 19  account_Charges_Monthly    7032 non-null   float64\n",
      " 20  account_Charges_Total      7032 non-null   float64\n",
      " 21  account_Charges_Daily      7032 non-null   float64\n",
      "dtypes: float64(3), int64(2), object(17)\n",
      "memory usage: 1.5+ MB\n"
     ]
    }
   ],
   "source": [
    "df_telco.info()"
   ]
  },
  {
   "cell_type": "markdown",
   "id": "d98d5d21",
   "metadata": {},
   "source": [
    "### Data export"
   ]
  },
  {
   "cell_type": "code",
   "execution_count": 146,
   "id": "092c228a",
   "metadata": {},
   "outputs": [],
   "source": [
    "df_telco.to_csv('df_telco_clean.csv', index = False)"
   ]
  }
 ],
 "metadata": {
  "kernelspec": {
   "display_name": "Python 3 (ipykernel)",
   "language": "python",
   "name": "python3"
  },
  "language_info": {
   "codemirror_mode": {
    "name": "ipython",
    "version": 3
   },
   "file_extension": ".py",
   "mimetype": "text/x-python",
   "name": "python",
   "nbconvert_exporter": "python",
   "pygments_lexer": "ipython3",
   "version": "3.7.6"
  }
 },
 "nbformat": 4,
 "nbformat_minor": 5
}
